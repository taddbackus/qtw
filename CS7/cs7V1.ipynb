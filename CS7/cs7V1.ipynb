{
 "cells": [
  {
   "cell_type": "code",
   "execution_count": 50,
   "metadata": {},
   "outputs": [],
   "source": [
    "import pandas as pd\n",
    "import matplotlib.pyplot as plt\n",
    "import seaborn as sns\n",
    "import numpy as np\n",
    "from sklearn.preprocessing import StandardScaler\n",
    "from sklearn.ensemble import RandomForestClassifier\n",
    "from sklearn.model_selection import train_test_split\n",
    "from sklearn.metrics import accuracy_score, classification_report, confusion_matrix, roc_auc_score, roc_curve"
   ]
  },
  {
   "cell_type": "code",
   "execution_count": 2,
   "metadata": {},
   "outputs": [
    {
     "name": "stdout",
     "output_type": "stream",
     "text": [
      "         x0        x1         x2        x3        x4         x5         x6  \\\n",
      "0 -0.166563 -3.961588   4.621113  2.481908 -1.800135   0.804684   6.718751   \n",
      "1 -0.149894 -0.585676  27.839856  4.152333  6.426802  -2.426943  40.477058   \n",
      "2 -0.321707 -1.429819  12.251561  6.586874 -5.304647 -11.311090  17.812850   \n",
      "3 -0.245594  5.076677 -24.149632  3.637307  6.505811   2.290224 -35.111751   \n",
      "4 -0.273366  0.306326 -11.352593  1.676758  2.928441  -0.616824 -16.505817   \n",
      "\n",
      "          x7        x8        x9  ...        x41       x42       x43  \\\n",
      "0 -14.789997 -1.040673 -4.204950  ...  -1.497117  5.414063 -2.325655   \n",
      "1  -6.725709  0.896421  0.330165  ...  36.292790  4.490915  0.762561   \n",
      "2  11.060572  5.325880 -2.632984  ...  -0.368491  9.088864 -0.689886   \n",
      "3 -18.913592 -0.337041 -5.568076  ...  15.691546 -7.467775  2.940789   \n",
      "4  27.532281  1.199715 -4.309105  ... -13.911297 -5.229937  1.783928   \n",
      "\n",
      "        x44       x45        x46       x47       x48        x49  y  \n",
      "0  1.674827 -0.264332  60.781427 -7.689696  0.151589  -8.040166  0  \n",
      "1  6.526662  1.007927  15.805696 -4.896678 -0.320283  16.719974  0  \n",
      "2 -2.731118  0.754200  30.856417 -7.428573 -2.090804  -7.869421  0  \n",
      "3 -6.424112  0.419776 -72.424569  5.361375  1.806070  -7.670847  0  \n",
      "4  3.957801 -0.096988 -14.085435 -0.208351 -0.894942  15.724742  1  \n",
      "\n",
      "[5 rows x 51 columns]\n"
     ]
    }
   ],
   "source": [
    "dfRaw = pd.read_csv('/Users/taddbackus/School/fall23/qtw/cs7/final_project(5).csv')\n",
    "print(dfRaw.head())"
   ]
  },
  {
   "cell_type": "code",
   "execution_count": 3,
   "metadata": {},
   "outputs": [
    {
     "name": "stdout",
     "output_type": "stream",
     "text": [
      "                  x0             x1             x2             x3  \\\n",
      "count  159974.000000  159975.000000  159962.000000  159963.000000   \n",
      "mean       -0.001028       0.001358      -1.150145      -0.024637   \n",
      "std         0.371137       6.340632      13.273480       8.065032   \n",
      "min        -1.592635     -26.278302     -59.394048     -35.476594   \n",
      "25%        -0.251641      -4.260973     -10.166536      -5.454438   \n",
      "50%        -0.002047       0.004813      -1.340932      -0.031408   \n",
      "75%         0.248532       4.284220       7.871676       5.445179   \n",
      "max         1.600849      27.988178      63.545653      38.906025   \n",
      "\n",
      "                  x4             x5             x6             x7  \\\n",
      "count  159974.000000  159963.000000  159974.000000  159973.000000   \n",
      "mean       -0.000549       0.013582      -1.670670      -7.692795   \n",
      "std         6.382293       7.670076      19.298665      30.542264   \n",
      "min       -28.467536     -33.822988     -86.354483    -181.506976   \n",
      "25%        -4.313118      -5.148130     -14.780146     -27.324771   \n",
      "50%         0.000857       0.014118      -1.948594      -6.956789   \n",
      "75%         4.306660       5.190749      11.446931      12.217071   \n",
      "max        26.247812      35.550110      92.390605     149.150634   \n",
      "\n",
      "                  x8             x9  ...            x41            x42  \\\n",
      "count  159979.000000  159970.000000  ...  159960.000000  159974.000000   \n",
      "mean       -0.030540       0.005462  ...       6.701076      -1.833820   \n",
      "std         8.901185       6.355040  ...      18.680196       5.110705   \n",
      "min       -37.691045     -27.980659  ...     -82.167224     -27.933750   \n",
      "25%        -6.031058      -4.260619  ...      -5.804080      -5.162869   \n",
      "50%        -0.016840       0.006045  ...       6.840110      -1.923754   \n",
      "75%         5.972349       4.305734  ...      19.266367       1.453507   \n",
      "max        39.049831      27.377842  ...     100.050432      22.668041   \n",
      "\n",
      "                 x43            x44            x45            x46  \\\n",
      "count  159963.000000  159960.000000  159971.000000  159969.000000   \n",
      "mean       -0.002091      -0.006250       0.000885     -12.755395   \n",
      "std         1.534952       4.164595       0.396621      36.608641   \n",
      "min        -6.876234     -17.983487      -1.753221    -201.826828   \n",
      "25%        -1.039677      -2.812055      -0.266518     -36.428329   \n",
      "50%        -0.004385      -0.010484       0.001645     -12.982497   \n",
      "75%         1.033275       2.783274       0.269049      11.445443   \n",
      "max         6.680922      19.069759       1.669205     150.859415   \n",
      "\n",
      "                 x47            x48            x49              y  \n",
      "count  159963.000000  159968.000000  159968.000000  160000.000000  \n",
      "mean        0.028622      -0.000224      -0.674224       0.401231  \n",
      "std         4.788157       1.935501      15.036738       0.490149  \n",
      "min       -21.086333      -8.490155     -65.791191       0.000000  \n",
      "25%        -3.216016      -1.320800     -10.931753       0.000000  \n",
      "50%         0.035865      -0.011993      -0.574410       0.000000  \n",
      "75%         3.268028       1.317703       9.651072       1.000000  \n",
      "max        20.836854       8.226552      66.877604       1.000000  \n",
      "\n",
      "[8 rows x 46 columns]\n"
     ]
    }
   ],
   "source": [
    "print(dfRaw.describe())"
   ]
  },
  {
   "cell_type": "code",
   "execution_count": 4,
   "metadata": {},
   "outputs": [
    {
     "name": "stdout",
     "output_type": "stream",
     "text": [
      "<class 'pandas.core.frame.DataFrame'>\n",
      "RangeIndex: 160000 entries, 0 to 159999\n",
      "Data columns (total 51 columns):\n",
      " #   Column  Non-Null Count   Dtype  \n",
      "---  ------  --------------   -----  \n",
      " 0   x0      159974 non-null  float64\n",
      " 1   x1      159975 non-null  float64\n",
      " 2   x2      159962 non-null  float64\n",
      " 3   x3      159963 non-null  float64\n",
      " 4   x4      159974 non-null  float64\n",
      " 5   x5      159963 non-null  float64\n",
      " 6   x6      159974 non-null  float64\n",
      " 7   x7      159973 non-null  float64\n",
      " 8   x8      159979 non-null  float64\n",
      " 9   x9      159970 non-null  float64\n",
      " 10  x10     159957 non-null  float64\n",
      " 11  x11     159970 non-null  float64\n",
      " 12  x12     159964 non-null  float64\n",
      " 13  x13     159969 non-null  float64\n",
      " 14  x14     159966 non-null  float64\n",
      " 15  x15     159965 non-null  float64\n",
      " 16  x16     159974 non-null  float64\n",
      " 17  x17     159973 non-null  float64\n",
      " 18  x18     159960 non-null  float64\n",
      " 19  x19     159965 non-null  float64\n",
      " 20  x20     159962 non-null  float64\n",
      " 21  x21     159971 non-null  float64\n",
      " 22  x22     159973 non-null  float64\n",
      " 23  x23     159953 non-null  float64\n",
      " 24  x24     159972 non-null  object \n",
      " 25  x25     159978 non-null  float64\n",
      " 26  x26     159964 non-null  float64\n",
      " 27  x27     159970 non-null  float64\n",
      " 28  x28     159965 non-null  float64\n",
      " 29  x29     159970 non-null  object \n",
      " 30  x30     159970 non-null  object \n",
      " 31  x31     159961 non-null  float64\n",
      " 32  x32     159969 non-null  object \n",
      " 33  x33     159959 non-null  float64\n",
      " 34  x34     159959 non-null  float64\n",
      " 35  x35     159970 non-null  float64\n",
      " 36  x36     159973 non-null  float64\n",
      " 37  x37     159977 non-null  object \n",
      " 38  x38     159969 non-null  float64\n",
      " 39  x39     159977 non-null  float64\n",
      " 40  x40     159964 non-null  float64\n",
      " 41  x41     159960 non-null  float64\n",
      " 42  x42     159974 non-null  float64\n",
      " 43  x43     159963 non-null  float64\n",
      " 44  x44     159960 non-null  float64\n",
      " 45  x45     159971 non-null  float64\n",
      " 46  x46     159969 non-null  float64\n",
      " 47  x47     159963 non-null  float64\n",
      " 48  x48     159968 non-null  float64\n",
      " 49  x49     159968 non-null  float64\n",
      " 50  y       160000 non-null  int64  \n",
      "dtypes: float64(45), int64(1), object(5)\n",
      "memory usage: 62.3+ MB\n",
      "None\n"
     ]
    }
   ],
   "source": [
    "print(dfRaw.info())"
   ]
  },
  {
   "cell_type": "code",
   "execution_count": 14,
   "metadata": {},
   "outputs": [],
   "source": [
    "df = dfRaw.copy()"
   ]
  },
  {
   "cell_type": "code",
   "execution_count": 17,
   "metadata": {},
   "outputs": [],
   "source": [
    "columns_to_encode = ['x24','x29','x30']\n",
    "for i in columns_to_encode:\n",
    "    df[i] = df[i].fillna('unknown')"
   ]
  },
  {
   "cell_type": "code",
   "execution_count": 18,
   "metadata": {},
   "outputs": [
    {
     "name": "stdout",
     "output_type": "stream",
     "text": [
      "x0 : 26 missing\n",
      "x0 : 0.0001625 %\n",
      "x1 : 25 missing\n",
      "x1 : 0.00015625 %\n",
      "x2 : 38 missing\n",
      "x2 : 0.0002375 %\n",
      "x3 : 37 missing\n",
      "x3 : 0.00023125 %\n",
      "x4 : 26 missing\n",
      "x4 : 0.0001625 %\n",
      "x5 : 37 missing\n",
      "x5 : 0.00023125 %\n",
      "x6 : 26 missing\n",
      "x6 : 0.0001625 %\n",
      "x7 : 27 missing\n",
      "x7 : 0.00016875 %\n",
      "x8 : 21 missing\n",
      "x8 : 0.00013125 %\n",
      "x9 : 30 missing\n",
      "x9 : 0.0001875 %\n",
      "x10 : 43 missing\n",
      "x10 : 0.00026875 %\n",
      "x11 : 30 missing\n",
      "x11 : 0.0001875 %\n",
      "x12 : 36 missing\n",
      "x12 : 0.000225 %\n",
      "x13 : 31 missing\n",
      "x13 : 0.00019375 %\n",
      "x14 : 34 missing\n",
      "x14 : 0.0002125 %\n",
      "x15 : 35 missing\n",
      "x15 : 0.00021875 %\n",
      "x16 : 26 missing\n",
      "x16 : 0.0001625 %\n",
      "x17 : 27 missing\n",
      "x17 : 0.00016875 %\n",
      "x18 : 40 missing\n",
      "x18 : 0.00025 %\n",
      "x19 : 35 missing\n",
      "x19 : 0.00021875 %\n",
      "x20 : 38 missing\n",
      "x20 : 0.0002375 %\n",
      "x21 : 29 missing\n",
      "x21 : 0.00018125 %\n",
      "x22 : 27 missing\n",
      "x22 : 0.00016875 %\n",
      "x23 : 47 missing\n",
      "x23 : 0.00029375 %\n",
      "x25 : 22 missing\n",
      "x25 : 0.0001375 %\n",
      "x26 : 36 missing\n",
      "x26 : 0.000225 %\n",
      "x27 : 30 missing\n",
      "x27 : 0.0001875 %\n",
      "x28 : 35 missing\n",
      "x28 : 0.00021875 %\n",
      "x31 : 39 missing\n",
      "x31 : 0.00024375 %\n",
      "x32 : 31 missing\n",
      "x32 : 0.00019375 %\n",
      "x33 : 41 missing\n",
      "x33 : 0.00025625 %\n",
      "x34 : 41 missing\n",
      "x34 : 0.00025625 %\n",
      "x35 : 30 missing\n",
      "x35 : 0.0001875 %\n",
      "x36 : 27 missing\n",
      "x36 : 0.00016875 %\n",
      "x37 : 23 missing\n",
      "x37 : 0.00014375 %\n",
      "x38 : 31 missing\n",
      "x38 : 0.00019375 %\n",
      "x39 : 23 missing\n",
      "x39 : 0.00014375 %\n",
      "x40 : 36 missing\n",
      "x40 : 0.000225 %\n",
      "x41 : 40 missing\n",
      "x41 : 0.00025 %\n",
      "x42 : 26 missing\n",
      "x42 : 0.0001625 %\n",
      "x43 : 37 missing\n",
      "x43 : 0.00023125 %\n",
      "x44 : 40 missing\n",
      "x44 : 0.00025 %\n",
      "x45 : 29 missing\n",
      "x45 : 0.00018125 %\n",
      "x46 : 31 missing\n",
      "x46 : 0.00019375 %\n",
      "x47 : 37 missing\n",
      "x47 : 0.00023125 %\n",
      "x48 : 32 missing\n",
      "x48 : 0.0002 %\n",
      "x49 : 32 missing\n",
      "x49 : 0.0002 %\n"
     ]
    }
   ],
   "source": [
    "missingData = []\n",
    "for i in df:\n",
    "    if df[i].isnull().sum() > 0:\n",
    "        print(i,':',df[i].isnull().sum(),'missing')\n",
    "        print(i,':',df[i].isnull().sum() / len(df),'%')\n",
    "        missingData.append(i)"
   ]
  },
  {
   "cell_type": "code",
   "execution_count": 19,
   "metadata": {},
   "outputs": [
    {
     "name": "stderr",
     "output_type": "stream",
     "text": [
      "/var/folders/b6/xllr9jf92s55608_ychrqz700000gn/T/ipykernel_51131/2956702921.py:1: FutureWarning: The default value of regex will change from True to False in a future version. In addition, single character regular expressions will *not* be treated as literal strings when regex=True.\n",
      "  df['x37'] = df['x37'].str.replace('$','').astype(float)\n"
     ]
    }
   ],
   "source": [
    "df['x37'] = df['x37'].str.replace('$','').astype(float)\n",
    "df['x32'] = df['x32'].str.replace('%','').astype(float)"
   ]
  },
  {
   "cell_type": "code",
   "execution_count": 25,
   "metadata": {},
   "outputs": [],
   "source": [
    "categorical_columns = df.select_dtypes(include = ['object']).columns\n",
    "\n",
    "for col in categorical_columns:\n",
    "    unique_values = df[col].unique()\n",
    "    unique_count = len(unique_values)\n",
    "    print(f\"Unique values in {col} ({unique_count} unique values): \\n{unique_values}\\n\\n\")"
   ]
  },
  {
   "cell_type": "code",
   "execution_count": 23,
   "metadata": {},
   "outputs": [],
   "source": [
    "for i in missingData:\n",
    "    df[i].fillna(df[i].median(),inplace=True)\n",
    "for i in df:\n",
    "    if df[i].isnull().sum() > 0:\n",
    "        print(i, ':', df[i].isnull().sum(), 'missing')"
   ]
  },
  {
   "cell_type": "code",
   "execution_count": 24,
   "metadata": {},
   "outputs": [],
   "source": [
    "df = pd.get_dummies(df, columns=columns_to_encode, prefix=columns_to_encode)\n"
   ]
  },
  {
   "cell_type": "code",
   "execution_count": 27,
   "metadata": {},
   "outputs": [
    {
     "name": "stdout",
     "output_type": "stream",
     "text": [
      "(160000, 71)\n",
      "(160000, 70)\n",
      "(160000,)\n"
     ]
    }
   ],
   "source": [
    "X = df.drop(columns='y')\n",
    "y = df['y']\n",
    "print(df.shape)\n",
    "print(X.shape)\n",
    "print(y.shape)"
   ]
  },
  {
   "cell_type": "code",
   "execution_count": 28,
   "metadata": {},
   "outputs": [],
   "source": [
    "scaler = StandardScaler()\n",
    "X = scaler.fit_transform(X)"
   ]
  },
  {
   "cell_type": "code",
   "execution_count": 29,
   "metadata": {},
   "outputs": [],
   "source": [
    "X_train, X_test, y_train, y_test = train_test_split(X, y, test_size=0.2)\n"
   ]
  },
  {
   "cell_type": "code",
   "execution_count": 30,
   "metadata": {},
   "outputs": [
    {
     "name": "stdout",
     "output_type": "stream",
     "text": [
      "(128000, 70)\n",
      "(32000, 70)\n",
      "(128000,)\n",
      "(32000,)\n"
     ]
    }
   ],
   "source": [
    "print(X_train.shape)\n",
    "print(X_test.shape)\n",
    "print(y_train.shape)\n",
    "print(y_test.shape)"
   ]
  },
  {
   "cell_type": "code",
   "execution_count": 31,
   "metadata": {},
   "outputs": [
    {
     "data": {
      "text/html": [
       "<style>#sk-container-id-1 {color: black;background-color: white;}#sk-container-id-1 pre{padding: 0;}#sk-container-id-1 div.sk-toggleable {background-color: white;}#sk-container-id-1 label.sk-toggleable__label {cursor: pointer;display: block;width: 100%;margin-bottom: 0;padding: 0.3em;box-sizing: border-box;text-align: center;}#sk-container-id-1 label.sk-toggleable__label-arrow:before {content: \"▸\";float: left;margin-right: 0.25em;color: #696969;}#sk-container-id-1 label.sk-toggleable__label-arrow:hover:before {color: black;}#sk-container-id-1 div.sk-estimator:hover label.sk-toggleable__label-arrow:before {color: black;}#sk-container-id-1 div.sk-toggleable__content {max-height: 0;max-width: 0;overflow: hidden;text-align: left;background-color: #f0f8ff;}#sk-container-id-1 div.sk-toggleable__content pre {margin: 0.2em;color: black;border-radius: 0.25em;background-color: #f0f8ff;}#sk-container-id-1 input.sk-toggleable__control:checked~div.sk-toggleable__content {max-height: 200px;max-width: 100%;overflow: auto;}#sk-container-id-1 input.sk-toggleable__control:checked~label.sk-toggleable__label-arrow:before {content: \"▾\";}#sk-container-id-1 div.sk-estimator input.sk-toggleable__control:checked~label.sk-toggleable__label {background-color: #d4ebff;}#sk-container-id-1 div.sk-label input.sk-toggleable__control:checked~label.sk-toggleable__label {background-color: #d4ebff;}#sk-container-id-1 input.sk-hidden--visually {border: 0;clip: rect(1px 1px 1px 1px);clip: rect(1px, 1px, 1px, 1px);height: 1px;margin: -1px;overflow: hidden;padding: 0;position: absolute;width: 1px;}#sk-container-id-1 div.sk-estimator {font-family: monospace;background-color: #f0f8ff;border: 1px dotted black;border-radius: 0.25em;box-sizing: border-box;margin-bottom: 0.5em;}#sk-container-id-1 div.sk-estimator:hover {background-color: #d4ebff;}#sk-container-id-1 div.sk-parallel-item::after {content: \"\";width: 100%;border-bottom: 1px solid gray;flex-grow: 1;}#sk-container-id-1 div.sk-label:hover label.sk-toggleable__label {background-color: #d4ebff;}#sk-container-id-1 div.sk-serial::before {content: \"\";position: absolute;border-left: 1px solid gray;box-sizing: border-box;top: 0;bottom: 0;left: 50%;z-index: 0;}#sk-container-id-1 div.sk-serial {display: flex;flex-direction: column;align-items: center;background-color: white;padding-right: 0.2em;padding-left: 0.2em;position: relative;}#sk-container-id-1 div.sk-item {position: relative;z-index: 1;}#sk-container-id-1 div.sk-parallel {display: flex;align-items: stretch;justify-content: center;background-color: white;position: relative;}#sk-container-id-1 div.sk-item::before, #sk-container-id-1 div.sk-parallel-item::before {content: \"\";position: absolute;border-left: 1px solid gray;box-sizing: border-box;top: 0;bottom: 0;left: 50%;z-index: -1;}#sk-container-id-1 div.sk-parallel-item {display: flex;flex-direction: column;z-index: 1;position: relative;background-color: white;}#sk-container-id-1 div.sk-parallel-item:first-child::after {align-self: flex-end;width: 50%;}#sk-container-id-1 div.sk-parallel-item:last-child::after {align-self: flex-start;width: 50%;}#sk-container-id-1 div.sk-parallel-item:only-child::after {width: 0;}#sk-container-id-1 div.sk-dashed-wrapped {border: 1px dashed gray;margin: 0 0.4em 0.5em 0.4em;box-sizing: border-box;padding-bottom: 0.4em;background-color: white;}#sk-container-id-1 div.sk-label label {font-family: monospace;font-weight: bold;display: inline-block;line-height: 1.2em;}#sk-container-id-1 div.sk-label-container {text-align: center;}#sk-container-id-1 div.sk-container {/* jupyter's `normalize.less` sets `[hidden] { display: none; }` but bootstrap.min.css set `[hidden] { display: none !important; }` so we also need the `!important` here to be able to override the default hidden behavior on the sphinx rendered scikit-learn.org. See: https://github.com/scikit-learn/scikit-learn/issues/21755 */display: inline-block !important;position: relative;}#sk-container-id-1 div.sk-text-repr-fallback {display: none;}</style><div id=\"sk-container-id-1\" class=\"sk-top-container\"><div class=\"sk-text-repr-fallback\"><pre>RandomForestClassifier(n_estimators=10)</pre><b>In a Jupyter environment, please rerun this cell to show the HTML representation or trust the notebook. <br />On GitHub, the HTML representation is unable to render, please try loading this page with nbviewer.org.</b></div><div class=\"sk-container\" hidden><div class=\"sk-item\"><div class=\"sk-estimator sk-toggleable\"><input class=\"sk-toggleable__control sk-hidden--visually\" id=\"sk-estimator-id-1\" type=\"checkbox\" checked><label for=\"sk-estimator-id-1\" class=\"sk-toggleable__label sk-toggleable__label-arrow\">RandomForestClassifier</label><div class=\"sk-toggleable__content\"><pre>RandomForestClassifier(n_estimators=10)</pre></div></div></div></div></div>"
      ],
      "text/plain": [
       "RandomForestClassifier(n_estimators=10)"
      ]
     },
     "execution_count": 31,
     "metadata": {},
     "output_type": "execute_result"
    }
   ],
   "source": [
    "rfModel = RandomForestClassifier(n_estimators=10)\n",
    "rfModel.fit(X_train,y_train)"
   ]
  },
  {
   "cell_type": "code",
   "execution_count": 46,
   "metadata": {},
   "outputs": [],
   "source": [
    "yPred = rfModel.predict(X_test)\n",
    "yProb = rfModel.predict_proba(X_test)[:,1]"
   ]
  },
  {
   "cell_type": "code",
   "execution_count": 44,
   "metadata": {},
   "outputs": [
    {
     "data": {
      "image/png": "[encoded data removed]",
      "text/plain": [
       "<Figure size 640x480 with 1 Axes>"
      ]
     },
     "metadata": {},
     "output_type": "display_data"
    }
   ],
   "source": [
    "fpr, tpr, thresholds = roc_curve(y_test,yPred)\n",
    "roc_auc = roc_auc_score(y_test,yPred)\n",
    "plt.plot(fpr, tpr, 'b', label = 'AUC = %0.2f' % roc_auc)\n",
    "plt.legend(loc = 'lower right')\n",
    "plt.show()"
   ]
  },
  {
   "cell_type": "code",
   "execution_count": 33,
   "metadata": {},
   "outputs": [
    {
     "data": {
      "text/plain": [
       "0.89"
      ]
     },
     "execution_count": 33,
     "metadata": {},
     "output_type": "execute_result"
    }
   ],
   "source": [
    "accuracy_score(y_test,yPred)"
   ]
  },
  {
   "cell_type": "code",
   "execution_count": 35,
   "metadata": {},
   "outputs": [
    {
     "data": {
      "image/png": "[encoded data removed]",
      "text/plain": [
       "<Figure size 640x480 with 1 Axes>"
      ]
     },
     "metadata": {},
     "output_type": "display_data"
    }
   ],
   "source": [
    "conf_matrix = confusion_matrix(y_test,yPred)\n",
    "\n",
    "sns.heatmap(conf_matrix,\n",
    "            annot=True,\n",
    "            fmt = 'd',\n",
    "            cmap = 'Blues',\n",
    "            cbar = False,\n",
    "            xticklabels = ['0','1',],\n",
    "            yticklabels = ['0','1'])\n",
    "plt.xlabel('Predicted')\n",
    "plt.ylabel('Actual')\n",
    "plt.title('Confusion Matrix')\n",
    "plt.show()"
   ]
  },
  {
   "cell_type": "code",
   "execution_count": 40,
   "metadata": {},
   "outputs": [],
   "source": [
    "conf_matrix[0][1]\n",
    "conf_matrix[1][0]\n",
    "\n",
    "cost = (conf_matrix[0][1] * 40 + conf_matrix[1][0] *100) * 5"
   ]
  },
  {
   "cell_type": "code",
   "execution_count": 41,
   "metadata": {},
   "outputs": [
    {
     "name": "stdout",
     "output_type": "stream",
     "text": [
      "1469600\n"
     ]
    }
   ],
   "source": [
    "print(cost)"
   ]
  },
  {
   "cell_type": "code",
   "execution_count": 47,
   "metadata": {},
   "outputs": [
    {
     "name": "stdout",
     "output_type": "stream",
     "text": [
      "[0.2 0.4 0.3 ... 0.5 0.1 0.7]\n"
     ]
    }
   ],
   "source": [
    "print(yProb)"
   ]
  },
  {
   "cell_type": "code",
   "execution_count": 48,
   "metadata": {},
   "outputs": [],
   "source": [
    "def threshold_test(probabilities, th):\n",
    "    return [1 if prob >= th else 0 for prob in probabilities]\n",
    "def cost_score(confMatrix):\n",
    "    return (confMatrix[0][1] * 40 + confMatrix[1][0] * 100) * 5"
   ]
  },
  {
   "cell_type": "code",
   "execution_count": 52,
   "metadata": {},
   "outputs": [
    {
     "name": "stdout",
     "output_type": "stream",
     "text": [
      "Threshold: 0.0\n",
      "Total Money Lost: 3844000\n",
      "========================\n",
      "Threshold: 0.010101010101010102\n",
      "Total Money Lost: 2807300\n",
      "========================\n",
      "Threshold: 0.020202020202020204\n",
      "Total Money Lost: 2807300\n",
      "========================\n",
      "Threshold: 0.030303030303030304\n",
      "Total Money Lost: 2807300\n",
      "========================\n",
      "Threshold: 0.04040404040404041\n",
      "Total Money Lost: 2807300\n",
      "========================\n",
      "Threshold: 0.05050505050505051\n",
      "Total Money Lost: 2807300\n",
      "========================\n",
      "Threshold: 0.06060606060606061\n",
      "Total Money Lost: 2807300\n",
      "========================\n",
      "Threshold: 0.07070707070707072\n",
      "Total Money Lost: 2807300\n",
      "========================\n",
      "Threshold: 0.08080808080808081\n",
      "Total Money Lost: 2807300\n",
      "========================\n",
      "Threshold: 0.09090909090909091\n",
      "Total Money Lost: 2807300\n",
      "========================\n",
      "Threshold: 0.10101010101010102\n",
      "Total Money Lost: 1915900\n",
      "========================\n",
      "Threshold: 0.11111111111111112\n",
      "Total Money Lost: 1915900\n",
      "========================\n",
      "Threshold: 0.12121212121212122\n",
      "Total Money Lost: 1915900\n",
      "========================\n",
      "Threshold: 0.13131313131313133\n",
      "Total Money Lost: 1915900\n",
      "========================\n",
      "Threshold: 0.14141414141414144\n",
      "Total Money Lost: 1915900\n",
      "========================\n",
      "Threshold: 0.15151515151515152\n",
      "Total Money Lost: 1915900\n",
      "========================\n",
      "Threshold: 0.16161616161616163\n",
      "Total Money Lost: 1915900\n",
      "========================\n",
      "Threshold: 0.17171717171717174\n",
      "Total Money Lost: 1915900\n",
      "========================\n",
      "Threshold: 0.18181818181818182\n",
      "Total Money Lost: 1915900\n",
      "========================\n",
      "Threshold: 0.19191919191919193\n",
      "Total Money Lost: 1915900\n",
      "========================\n",
      "Threshold: 0.20202020202020204\n",
      "Total Money Lost: 1345400\n",
      "========================\n",
      "Threshold: 0.21212121212121213\n",
      "Total Money Lost: 1345400\n",
      "========================\n",
      "Threshold: 0.22222222222222224\n",
      "Total Money Lost: 1345400\n",
      "========================\n",
      "Threshold: 0.23232323232323235\n",
      "Total Money Lost: 1345400\n",
      "========================\n",
      "Threshold: 0.24242424242424243\n",
      "Total Money Lost: 1345400\n",
      "========================\n",
      "Threshold: 0.25252525252525254\n",
      "Total Money Lost: 1345400\n",
      "========================\n",
      "Threshold: 0.26262626262626265\n",
      "Total Money Lost: 1345400\n",
      "========================\n",
      "Threshold: 0.27272727272727276\n",
      "Total Money Lost: 1345400\n",
      "========================\n",
      "Threshold: 0.2828282828282829\n",
      "Total Money Lost: 1345400\n",
      "========================\n",
      "Threshold: 0.29292929292929293\n",
      "Total Money Lost: 1345400\n",
      "========================\n",
      "Threshold: 0.30303030303030304\n",
      "Total Money Lost: 1110300\n",
      "========================\n",
      "Threshold: 0.31313131313131315\n",
      "Total Money Lost: 1110300\n",
      "========================\n",
      "Threshold: 0.32323232323232326\n",
      "Total Money Lost: 1110300\n",
      "========================\n",
      "Threshold: 0.33333333333333337\n",
      "Total Money Lost: 1110300\n",
      "========================\n",
      "Threshold: 0.3434343434343435\n",
      "Total Money Lost: 1110300\n",
      "========================\n",
      "Threshold: 0.3535353535353536\n",
      "Total Money Lost: 1110300\n",
      "========================\n",
      "Threshold: 0.36363636363636365\n",
      "Total Money Lost: 1110300\n",
      "========================\n",
      "Threshold: 0.37373737373737376\n",
      "Total Money Lost: 1110300\n",
      "========================\n",
      "Threshold: 0.38383838383838387\n",
      "Total Money Lost: 1110300\n",
      "========================\n",
      "Threshold: 0.393939393939394\n",
      "Total Money Lost: 1110300\n",
      "========================\n",
      "Threshold: 0.4040404040404041\n",
      "Total Money Lost: 1179300\n",
      "========================\n",
      "Threshold: 0.4141414141414142\n",
      "Total Money Lost: 1179300\n",
      "========================\n",
      "Threshold: 0.42424242424242425\n",
      "Total Money Lost: 1179300\n",
      "========================\n",
      "Threshold: 0.43434343434343436\n",
      "Total Money Lost: 1179300\n",
      "========================\n",
      "Threshold: 0.4444444444444445\n",
      "Total Money Lost: 1179300\n",
      "========================\n",
      "Threshold: 0.4545454545454546\n",
      "Total Money Lost: 1179300\n",
      "========================\n",
      "Threshold: 0.4646464646464647\n",
      "Total Money Lost: 1179300\n",
      "========================\n",
      "Threshold: 0.4747474747474748\n",
      "Total Money Lost: 1179300\n",
      "========================\n",
      "Threshold: 0.48484848484848486\n",
      "Total Money Lost: 1179300\n",
      "========================\n",
      "Threshold: 0.494949494949495\n",
      "Total Money Lost: 1179300\n",
      "========================\n",
      "Threshold: 0.5050505050505051\n",
      "Total Money Lost: 1469600\n",
      "========================\n",
      "Threshold: 0.5151515151515152\n",
      "Total Money Lost: 1469600\n",
      "========================\n",
      "Threshold: 0.5252525252525253\n",
      "Total Money Lost: 1469600\n",
      "========================\n",
      "Threshold: 0.5353535353535354\n",
      "Total Money Lost: 1469600\n",
      "========================\n",
      "Threshold: 0.5454545454545455\n",
      "Total Money Lost: 1469600\n",
      "========================\n",
      "Threshold: 0.5555555555555556\n",
      "Total Money Lost: 1469600\n",
      "========================\n",
      "Threshold: 0.5656565656565657\n",
      "Total Money Lost: 1469600\n",
      "========================\n",
      "Threshold: 0.5757575757575758\n",
      "Total Money Lost: 1469600\n",
      "========================\n",
      "Threshold: 0.5858585858585859\n",
      "Total Money Lost: 1469600\n",
      "========================\n",
      "Threshold: 0.595959595959596\n",
      "Total Money Lost: 1469600\n",
      "========================\n",
      "Threshold: 0.6060606060606061\n",
      "Total Money Lost: 2033600\n",
      "========================\n",
      "Threshold: 0.6161616161616162\n",
      "Total Money Lost: 2033600\n",
      "========================\n",
      "Threshold: 0.6262626262626263\n",
      "Total Money Lost: 2033600\n",
      "========================\n",
      "Threshold: 0.6363636363636365\n",
      "Total Money Lost: 2033600\n",
      "========================\n",
      "Threshold: 0.6464646464646465\n",
      "Total Money Lost: 2033600\n",
      "========================\n",
      "Threshold: 0.6565656565656566\n",
      "Total Money Lost: 2033600\n",
      "========================\n",
      "Threshold: 0.6666666666666667\n",
      "Total Money Lost: 2033600\n",
      "========================\n",
      "Threshold: 0.6767676767676768\n",
      "Total Money Lost: 2033600\n",
      "========================\n",
      "Threshold: 0.686868686868687\n",
      "Total Money Lost: 2033600\n",
      "========================\n",
      "Threshold: 0.696969696969697\n",
      "Total Money Lost: 2033600\n",
      "========================\n",
      "Threshold: 0.7070707070707072\n",
      "Total Money Lost: 2920900\n",
      "========================\n",
      "Threshold: 0.7171717171717172\n",
      "Total Money Lost: 2920900\n",
      "========================\n",
      "Threshold: 0.7272727272727273\n",
      "Total Money Lost: 2920900\n",
      "========================\n",
      "Threshold: 0.7373737373737375\n",
      "Total Money Lost: 2920900\n",
      "========================\n",
      "Threshold: 0.7474747474747475\n",
      "Total Money Lost: 2920900\n",
      "========================\n",
      "Threshold: 0.7575757575757577\n",
      "Total Money Lost: 2920900\n",
      "========================\n",
      "Threshold: 0.7676767676767677\n",
      "Total Money Lost: 2920900\n",
      "========================\n",
      "Threshold: 0.7777777777777778\n",
      "Total Money Lost: 2920900\n",
      "========================\n",
      "Threshold: 0.787878787878788\n",
      "Total Money Lost: 2920900\n",
      "========================\n",
      "Threshold: 0.797979797979798\n",
      "Total Money Lost: 2920900\n",
      "========================\n",
      "Threshold: 0.8080808080808082\n",
      "Total Money Lost: 4059500\n",
      "========================\n",
      "Threshold: 0.8181818181818182\n",
      "Total Money Lost: 4059500\n",
      "========================\n",
      "Threshold: 0.8282828282828284\n",
      "Total Money Lost: 4059500\n",
      "========================\n",
      "Threshold: 0.8383838383838385\n",
      "Total Money Lost: 4059500\n",
      "========================\n",
      "Threshold: 0.8484848484848485\n",
      "Total Money Lost: 4059500\n",
      "========================\n",
      "Threshold: 0.8585858585858587\n",
      "Total Money Lost: 4059500\n",
      "========================\n",
      "Threshold: 0.8686868686868687\n",
      "Total Money Lost: 4059500\n",
      "========================\n",
      "Threshold: 0.8787878787878789\n",
      "Total Money Lost: 4059500\n",
      "========================\n",
      "Threshold: 0.888888888888889\n",
      "Total Money Lost: 4059500\n",
      "========================\n",
      "Threshold: 0.8989898989898991\n",
      "Total Money Lost: 4059500\n",
      "========================\n",
      "Threshold: 0.9090909090909092\n",
      "Total Money Lost: 5376800\n",
      "========================\n",
      "Threshold: 0.9191919191919192\n",
      "Total Money Lost: 5376800\n",
      "========================\n",
      "Threshold: 0.9292929292929294\n",
      "Total Money Lost: 5376800\n",
      "========================\n",
      "Threshold: 0.9393939393939394\n",
      "Total Money Lost: 5376800\n",
      "========================\n",
      "Threshold: 0.9494949494949496\n",
      "Total Money Lost: 5376800\n",
      "========================\n",
      "Threshold: 0.9595959595959597\n",
      "Total Money Lost: 5376800\n",
      "========================\n",
      "Threshold: 0.9696969696969697\n",
      "Total Money Lost: 5376800\n",
      "========================\n",
      "Threshold: 0.9797979797979799\n",
      "Total Money Lost: 5376800\n",
      "========================\n",
      "Threshold: 0.98989898989899\n",
      "Total Money Lost: 5376800\n",
      "========================\n",
      "Threshold: 1.0\n",
      "Total Money Lost: 5376800\n",
      "========================\n",
      "=========================\n",
      "=========================\n",
      "=========================\n",
      "Lowest:\n",
      "Threshold: 0.30303030303030304\n",
      "Cost: 1110300\n"
     ]
    }
   ],
   "source": [
    "lowestTH = 1\n",
    "lowestCost = 160000*100\n",
    "thresholds = np.linspace(0,1,100)\n",
    "for t in thresholds:\n",
    "    conf_matrix = confusion_matrix(y_test, threshold_test(yProb,t))\n",
    "    cost = cost_score(conf_matrix)\n",
    "    if cost < lowestCost:\n",
    "        lowestCost = cost\n",
    "        lowestTH = t\n",
    "    print('Threshold:',t)\n",
    "    print('Total Money Lost:',cost)\n",
    "    print('========================')\n",
    "print('=========================')\n",
    "print('=========================')\n",
    "print('=========================')\n",
    "print('Lowest:')\n",
    "print('Threshold:',lowestTH)\n",
    "print('Cost:',lowestCost)"
   ]
  }
 ],
 "metadata": {
  "kernelspec": {
   "display_name": "base",
   "language": "python",
   "name": "python3"
  },
  "language_info": {
   "codemirror_mode": {
    "name": "ipython",
    "version": 3
   },
   "file_extension": ".py",
   "mimetype": "text/x-python",
   "name": "python",
   "nbconvert_exporter": "python",
   "pygments_lexer": "ipython3",
   "version": "3.9.7"
  }
 },
 "nbformat": 4,
 "nbformat_minor": 2
}
