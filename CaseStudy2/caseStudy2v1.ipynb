{
 "cells": [
  {
   "cell_type": "code",
   "execution_count": 20,
   "metadata": {},
   "outputs": [],
   "source": [
    "import pandas as pd\n",
    "import numpy as np\n",
    "\n",
    "from sklearn.linear_model import LogisticRegression\n",
    "from sklearn.model_selection import cross_val_score"
   ]
  },
  {
   "cell_type": "code",
   "execution_count": 93,
   "metadata": {},
   "outputs": [
    {
     "name": "stdout",
     "output_type": "stream",
     "text": [
      "   admission_type_id                                        description\n",
      "0                  1                                          Emergency\n",
      "1                  2                                             Urgent\n",
      "2                  3                                           Elective\n",
      "3                  4                                            Newborn\n",
      "4                  5                                      Not Available\n",
      "..               ...                                                ...\n",
      "62                22   Transfer from hospital inpt/same fac reslt in...\n",
      "63                23                          Born inside this hospital\n",
      "64                24                         Born outside this hospital\n",
      "65                25            Transfer from Ambulatory Surgery Center\n",
      "66                26                              Transfer from Hospice\n",
      "\n",
      "[67 rows x 2 columns]\n"
     ]
    }
   ],
   "source": [
    "df = pd.read_csv('/Users/taddbackus/School/fall23/qtw/cs2/dataset_diabetes/diabetic_data.csv')\n",
    "mappings = pd.read_csv('/Users/taddbackus/School/fall23/qtw/cs2/dataset_diabetes/IDs_mapping.csv')\n",
    "print(mappings)"
   ]
  },
  {
   "cell_type": "code",
   "execution_count": 94,
   "metadata": {},
   "outputs": [
    {
     "name": "stdout",
     "output_type": "stream",
     "text": [
      "encounter_id                    0\n",
      "patient_nbr                     0\n",
      "race                         2273\n",
      "gender                          0\n",
      "age                             0\n",
      "weight                      98569\n",
      "admission_type_id               0\n",
      "discharge_disposition_id        0\n",
      "admission_source_id             0\n",
      "time_in_hospital                0\n",
      "payer_code                  40256\n",
      "medical_specialty           49949\n",
      "num_lab_procedures              0\n",
      "num_procedures                  0\n",
      "num_medications                 0\n",
      "number_outpatient               0\n",
      "number_emergency                0\n",
      "number_inpatient                0\n",
      "diag_1                         21\n",
      "diag_2                        358\n",
      "diag_3                       1423\n",
      "number_diagnoses                0\n",
      "max_glu_serum                   0\n",
      "A1Cresult                       0\n",
      "metformin                       0\n",
      "repaglinide                     0\n",
      "nateglinide                     0\n",
      "chlorpropamide                  0\n",
      "glimepiride                     0\n",
      "acetohexamide                   0\n",
      "glipizide                       0\n",
      "glyburide                       0\n",
      "tolbutamide                     0\n",
      "pioglitazone                    0\n",
      "rosiglitazone                   0\n",
      "acarbose                        0\n",
      "miglitol                        0\n",
      "troglitazone                    0\n",
      "tolazamide                      0\n",
      "examide                         0\n",
      "citoglipton                     0\n",
      "insulin                         0\n",
      "glyburide-metformin             0\n",
      "glipizide-metformin             0\n",
      "glimepiride-pioglitazone        0\n",
      "metformin-rosiglitazone         0\n",
      "metformin-pioglitazone          0\n",
      "change                          0\n",
      "diabetesMed                     0\n",
      "readmitted                      0\n",
      "dtype: int64\n",
      "\n",
      "\n"
     ]
    }
   ],
   "source": [
    "df = df.replace('?',np.NaN)\n",
    "print(df.isnull().sum())\n",
    "print('\\n')"
   ]
  },
  {
   "cell_type": "code",
   "execution_count": 95,
   "metadata": {},
   "outputs": [
    {
     "name": "stdout",
     "output_type": "stream",
     "text": [
      "encounter_id                 0.000000\n",
      "patient_nbr                  0.000000\n",
      "race                         2.233555\n",
      "gender                       0.000000\n",
      "age                          0.000000\n",
      "weight                      96.858479\n",
      "admission_type_id            0.000000\n",
      "discharge_disposition_id     0.000000\n",
      "admission_source_id          0.000000\n",
      "time_in_hospital             0.000000\n",
      "payer_code                  39.557416\n",
      "medical_specialty           49.082208\n",
      "num_lab_procedures           0.000000\n",
      "num_procedures               0.000000\n",
      "num_medications              0.000000\n",
      "number_outpatient            0.000000\n",
      "number_emergency             0.000000\n",
      "number_inpatient             0.000000\n",
      "diag_1                       0.020636\n",
      "diag_2                       0.351787\n",
      "diag_3                       1.398306\n",
      "number_diagnoses             0.000000\n",
      "max_glu_serum                0.000000\n",
      "A1Cresult                    0.000000\n",
      "metformin                    0.000000\n",
      "repaglinide                  0.000000\n",
      "nateglinide                  0.000000\n",
      "chlorpropamide               0.000000\n",
      "glimepiride                  0.000000\n",
      "acetohexamide                0.000000\n",
      "glipizide                    0.000000\n",
      "glyburide                    0.000000\n",
      "tolbutamide                  0.000000\n",
      "pioglitazone                 0.000000\n",
      "rosiglitazone                0.000000\n",
      "acarbose                     0.000000\n",
      "miglitol                     0.000000\n",
      "troglitazone                 0.000000\n",
      "tolazamide                   0.000000\n",
      "examide                      0.000000\n",
      "citoglipton                  0.000000\n",
      "insulin                      0.000000\n",
      "glyburide-metformin          0.000000\n",
      "glipizide-metformin          0.000000\n",
      "glimepiride-pioglitazone     0.000000\n",
      "metformin-rosiglitazone      0.000000\n",
      "metformin-pioglitazone       0.000000\n",
      "change                       0.000000\n",
      "diabetesMed                  0.000000\n",
      "readmitted                   0.000000\n",
      "dtype: float64\n",
      "\n",
      "\n"
     ]
    }
   ],
   "source": [
    "print(df.isnull().sum() / len(df) * 100)\n",
    "print('\\n')"
   ]
  },
  {
   "cell_type": "markdown",
   "metadata": {},
   "source": [
    "I just removed the columns that had a large amount of values. We can look into potential better ways to do this later."
   ]
  },
  {
   "cell_type": "code",
   "execution_count": 96,
   "metadata": {},
   "outputs": [
    {
     "name": "stdout",
     "output_type": "stream",
     "text": [
      "encounter_id                0.000000\n",
      "patient_nbr                 0.000000\n",
      "race                        2.233555\n",
      "gender                      0.000000\n",
      "age                         0.000000\n",
      "admission_type_id           0.000000\n",
      "discharge_disposition_id    0.000000\n",
      "admission_source_id         0.000000\n",
      "time_in_hospital            0.000000\n",
      "num_lab_procedures          0.000000\n",
      "num_procedures              0.000000\n",
      "num_medications             0.000000\n",
      "number_outpatient           0.000000\n",
      "number_emergency            0.000000\n",
      "number_inpatient            0.000000\n",
      "diag_1                      0.020636\n",
      "diag_2                      0.351787\n",
      "diag_3                      1.398306\n",
      "number_diagnoses            0.000000\n",
      "max_glu_serum               0.000000\n",
      "A1Cresult                   0.000000\n",
      "metformin                   0.000000\n",
      "repaglinide                 0.000000\n",
      "nateglinide                 0.000000\n",
      "chlorpropamide              0.000000\n",
      "glimepiride                 0.000000\n",
      "acetohexamide               0.000000\n",
      "glipizide                   0.000000\n",
      "glyburide                   0.000000\n",
      "tolbutamide                 0.000000\n",
      "pioglitazone                0.000000\n",
      "rosiglitazone               0.000000\n",
      "acarbose                    0.000000\n",
      "miglitol                    0.000000\n",
      "troglitazone                0.000000\n",
      "tolazamide                  0.000000\n",
      "examide                     0.000000\n",
      "citoglipton                 0.000000\n",
      "insulin                     0.000000\n",
      "glyburide-metformin         0.000000\n",
      "glipizide-metformin         0.000000\n",
      "glimepiride-pioglitazone    0.000000\n",
      "metformin-rosiglitazone     0.000000\n",
      "metformin-pioglitazone      0.000000\n",
      "change                      0.000000\n",
      "diabetesMed                 0.000000\n",
      "readmitted                  0.000000\n",
      "dtype: float64\n",
      "\n",
      "\n"
     ]
    }
   ],
   "source": [
    "df = df.drop(['weight','payer_code','medical_specialty'],axis=1)\n",
    "print(df.isnull().sum() / len(df) * 100)\n",
    "print('\\n')"
   ]
  },
  {
   "cell_type": "code",
   "execution_count": 97,
   "metadata": {},
   "outputs": [],
   "source": [
    "raceEncoded = pd.get_dummies(df['race'])\n",
    "genderEncoded = pd.get_dummies(df['gender'])\n",
    "maxGluEncoded = pd.get_dummies(df['max_glu_serum'])\n",
    "dfEncoded = df.drop(['race','gender','max_glu_serum'],axis=1)\n",
    "dfEncoded = dfEncoded.join(raceEncoded)\n",
    "dfEncoded = dfEncoded.join(genderEncoded)\n",
    "dfEncoded = dfEncoded.join(maxGluEncoded)\n"
   ]
  },
  {
   "cell_type": "markdown",
   "metadata": {},
   "source": [
    "One hot encoding race, gender, and max glucose."
   ]
  },
  {
   "cell_type": "markdown",
   "metadata": {},
   "source": [
    "We need to figure out what to do with the following columns still"
   ]
  },
  {
   "cell_type": "code",
   "execution_count": 98,
   "metadata": {},
   "outputs": [
    {
     "name": "stdout",
     "output_type": "stream",
     "text": [
      "A1Cresult\n",
      "None\n",
      ">7\n",
      ">8\n",
      "Norm\n",
      "==============\n",
      "metformin\n",
      "No\n",
      "Steady\n",
      "Up\n",
      "Down\n",
      "==============\n",
      "repaglinide\n",
      "No\n",
      "Up\n",
      "Steady\n",
      "Down\n",
      "==============\n",
      "nateglinide\n",
      "No\n",
      "Steady\n",
      "Down\n",
      "Up\n",
      "==============\n",
      "chlorpropamide\n",
      "No\n",
      "Steady\n",
      "Down\n",
      "Up\n",
      "==============\n",
      "glimepiride\n",
      "No\n",
      "Steady\n",
      "Down\n",
      "Up\n",
      "==============\n",
      "acetohexamide\n",
      "No\n",
      "Steady\n",
      "==============\n",
      "glipizide\n",
      "No\n",
      "Steady\n",
      "Up\n",
      "Down\n",
      "==============\n",
      "glyburide\n",
      "No\n",
      "Steady\n",
      "Up\n",
      "Down\n",
      "==============\n",
      "tolbutamide\n",
      "No\n",
      "Steady\n",
      "==============\n",
      "pioglitazone\n",
      "No\n",
      "Steady\n",
      "Up\n",
      "Down\n",
      "==============\n",
      "acarbose\n",
      "No\n",
      "Steady\n",
      "Up\n",
      "Down\n",
      "==============\n",
      "miglitol\n",
      "No\n",
      "Steady\n",
      "Down\n",
      "Up\n",
      "==============\n",
      "troglitazone\n",
      "No\n",
      "Steady\n",
      "==============\n",
      "tolazamide\n",
      "No\n",
      "Steady\n",
      "Up\n",
      "==============\n",
      "examide\n",
      "No\n",
      "==============\n",
      "citoglipton\n",
      "No\n",
      "==============\n",
      "insulin\n",
      "No\n",
      "Up\n",
      "Steady\n",
      "Down\n",
      "==============\n",
      "glyburide-metformin\n",
      "No\n",
      "Steady\n",
      "Down\n",
      "Up\n",
      "==============\n",
      "glimepiride-pioglitazone\n",
      "No\n",
      "Steady\n",
      "==============\n",
      "metformin-rosiglitazone\n",
      "No\n",
      "Steady\n",
      "==============\n",
      "metformin-pioglitazone\n",
      "No\n",
      "Steady\n",
      "==============\n"
     ]
    }
   ],
   "source": [
    "varToChange = ['A1Cresult','metformin','repaglinide','nateglinide','chlorpropamide',\n",
    "               'glimepiride','acetohexamide','glipizide','glyburide','tolbutamide',\n",
    "               'pioglitazone','acarbose','miglitol','troglitazone','tolazamide',\n",
    "               'examide','citoglipton','insulin','glyburide-metformin','glimepiride-pioglitazone',\n",
    "               'metformin-rosiglitazone','metformin-pioglitazone']\n",
    "for i in varToChange:\n",
    "    print(i)\n",
    "    for j in dfEncoded[i].unique():\n",
    "        print(j)\n",
    "    print('==============')"
   ]
  },
  {
   "cell_type": "code",
   "execution_count": 99,
   "metadata": {},
   "outputs": [],
   "source": [
    "dfEncoded.loc[dfEncoded['change'] == 'Ch', 'change'] = 1\n",
    "dfEncoded.loc[dfEncoded['change'] == 'No', 'change'] = 0\n",
    "dfEncoded.loc[dfEncoded['diabetesMed'] == 'No', 'diabetesMed'] = 0\n",
    "dfEncoded.loc[dfEncoded['diabetesMed'] == 'Yes', 'diabetesMed'] = 1"
   ]
  },
  {
   "cell_type": "code",
   "execution_count": 100,
   "metadata": {},
   "outputs": [],
   "source": [
    "dfEncoded.loc[dfEncoded['age'] == '[0-10)', 'age'] = 5\n",
    "dfEncoded.loc[dfEncoded['age'] == '[10-20)', 'age'] = 15\n",
    "dfEncoded.loc[dfEncoded['age'] == '[20-30)', 'age'] = 25\n",
    "dfEncoded.loc[dfEncoded['age'] == '[30-40)', 'age'] = 35\n",
    "dfEncoded.loc[dfEncoded['age'] == '[40-50)', 'age'] = 45\n",
    "dfEncoded.loc[dfEncoded['age'] == '[50-60)', 'age'] = 55\n",
    "dfEncoded.loc[dfEncoded['age'] == '[60-70)', 'age'] = 65\n",
    "dfEncoded.loc[dfEncoded['age'] == '[70-80)', 'age'] = 75\n",
    "dfEncoded.loc[dfEncoded['age'] == '[80-90)', 'age'] = 85\n",
    "dfEncoded.loc[dfEncoded['age'] == '[90-100)', 'age'] = 95"
   ]
  },
  {
   "cell_type": "markdown",
   "metadata": {},
   "source": [
    "Changed age to midpoint of the given range. Should be easy enough to change if theres a better way"
   ]
  },
  {
   "cell_type": "markdown",
   "metadata": {},
   "source": [
    "Below:   \n",
    "In the diagonsis columns there were values like V57 and E909. I dont know what these mean so i temporarily changed them to just the number following the letter so that i could make the column a float. I asked about this column in the presession but he didnt respond so we should ask in class."
   ]
  },
  {
   "cell_type": "code",
   "execution_count": 101,
   "metadata": {},
   "outputs": [],
   "source": [
    "dfEncoded['diag_1'] = dfEncoded['diag_1'].astype(str)\n",
    "for i in dfEncoded['diag_1'].unique():\n",
    "    if i[0] == 'V' or i[0] == 'E':\n",
    "        dfEncoded.loc[dfEncoded['diag_1'] == i, 'diag_1'] = i[1:]\n",
    "dfEncoded['diag_1'] = dfEncoded['diag_1'].astype(float)"
   ]
  },
  {
   "cell_type": "code",
   "execution_count": 102,
   "metadata": {},
   "outputs": [],
   "source": [
    "dfEncoded['diag_2'] = dfEncoded['diag_2'].astype(str)\n",
    "for i in dfEncoded['diag_2'].unique():\n",
    "    if i[0] == 'V' or i[0] == 'E':\n",
    "        dfEncoded.loc[dfEncoded['diag_2'] == i, 'diag_2'] = i[1:]\n",
    "dfEncoded['diag_2'] = dfEncoded['diag_2'].astype(float)"
   ]
  },
  {
   "cell_type": "code",
   "execution_count": 103,
   "metadata": {},
   "outputs": [],
   "source": [
    "dfEncoded['diag_3'] = dfEncoded['diag_3'].astype(str)\n",
    "for i in dfEncoded['diag_3'].unique():\n",
    "    if i[0] == 'V' or i[0] == 'E':\n",
    "        dfEncoded.loc[dfEncoded['diag_3'] == i, 'diag_3'] = i[1:]\n",
    "dfEncoded['diag_3'] = dfEncoded['diag_3'].astype(float)"
   ]
  },
  {
   "cell_type": "code",
   "execution_count": 104,
   "metadata": {},
   "outputs": [
    {
     "name": "stdout",
     "output_type": "stream",
     "text": [
      "(101766, 55)\n",
      "(101766,)\n"
     ]
    }
   ],
   "source": [
    "X = dfEncoded.drop(['readmitted'],axis=1)\n",
    "y = dfEncoded['readmitted']\n",
    "print(X.shape)\n",
    "print(y.shape)"
   ]
  },
  {
   "cell_type": "code",
   "execution_count": null,
   "metadata": {},
   "outputs": [],
   "source": [
    "model = LogisticRegression()"
   ]
  },
  {
   "cell_type": "code",
   "execution_count": null,
   "metadata": {},
   "outputs": [
    {
     "ename": "ValueError",
     "evalue": "\nAll the 5 fits failed.\nIt is very likely that your model is misconfigured.\nYou can try to debug the error by setting error_score='raise'.\n\nBelow are more details about the failures:\n--------------------------------------------------------------------------------\n5 fits failed with the following error:\nTraceback (most recent call last):\n  File \"/Users/taddbackus/opt/anaconda3/lib/python3.9/site-packages/sklearn/model_selection/_validation.py\", line 686, in _fit_and_score\n    estimator.fit(X_train, y_train, **fit_params)\n  File \"/Users/taddbackus/opt/anaconda3/lib/python3.9/site-packages/sklearn/linear_model/_logistic.py\", line 1196, in fit\n    X, y = self._validate_data(\n  File \"/Users/taddbackus/opt/anaconda3/lib/python3.9/site-packages/sklearn/base.py\", line 584, in _validate_data\n    X, y = check_X_y(X, y, **check_params)\n  File \"/Users/taddbackus/opt/anaconda3/lib/python3.9/site-packages/sklearn/utils/validation.py\", line 1106, in check_X_y\n    X = check_array(\n  File \"/Users/taddbackus/opt/anaconda3/lib/python3.9/site-packages/sklearn/utils/validation.py\", line 879, in check_array\n    array = _asarray_with_order(array, order=order, dtype=dtype, xp=xp)\n  File \"/Users/taddbackus/opt/anaconda3/lib/python3.9/site-packages/sklearn/utils/_array_api.py\", line 185, in _asarray_with_order\n    array = numpy.asarray(array, order=order, dtype=dtype)\n  File \"/Users/taddbackus/opt/anaconda3/lib/python3.9/site-packages/numpy/core/_asarray.py\", line 102, in asarray\n    return array(a, dtype, copy=False, order=order)\n  File \"/Users/taddbackus/opt/anaconda3/lib/python3.9/site-packages/pandas/core/generic.py\", line 1993, in __array__\n    return np.asarray(self._values, dtype=dtype)\n  File \"/Users/taddbackus/opt/anaconda3/lib/python3.9/site-packages/numpy/core/_asarray.py\", line 102, in asarray\n    return array(a, dtype, copy=False, order=order)\nValueError: could not convert string to float: 'None'\n",
     "output_type": "error",
     "traceback": [
      "\u001b[0;31m---------------------------------------------------------------------------\u001b[0m",
      "\u001b[0;31mValueError\u001b[0m                                Traceback (most recent call last)",
      "Cell \u001b[0;32mIn[69], line 1\u001b[0m\n\u001b[0;32m----> 1\u001b[0m cross_val_score(model,X,y,scoring\u001b[39m=\u001b[39;49m\u001b[39m'\u001b[39;49m\u001b[39maccuracy\u001b[39;49m\u001b[39m'\u001b[39;49m)\n",
      "File \u001b[0;32m~/opt/anaconda3/lib/python3.9/site-packages/sklearn/model_selection/_validation.py:515\u001b[0m, in \u001b[0;36mcross_val_score\u001b[0;34m(estimator, X, y, groups, scoring, cv, n_jobs, verbose, fit_params, pre_dispatch, error_score)\u001b[0m\n\u001b[1;32m    512\u001b[0m \u001b[39m# To ensure multimetric format is not supported\u001b[39;00m\n\u001b[1;32m    513\u001b[0m scorer \u001b[39m=\u001b[39m check_scoring(estimator, scoring\u001b[39m=\u001b[39mscoring)\n\u001b[0;32m--> 515\u001b[0m cv_results \u001b[39m=\u001b[39m cross_validate(\n\u001b[1;32m    516\u001b[0m     estimator\u001b[39m=\u001b[39;49mestimator,\n\u001b[1;32m    517\u001b[0m     X\u001b[39m=\u001b[39;49mX,\n\u001b[1;32m    518\u001b[0m     y\u001b[39m=\u001b[39;49my,\n\u001b[1;32m    519\u001b[0m     groups\u001b[39m=\u001b[39;49mgroups,\n\u001b[1;32m    520\u001b[0m     scoring\u001b[39m=\u001b[39;49m{\u001b[39m\"\u001b[39;49m\u001b[39mscore\u001b[39;49m\u001b[39m\"\u001b[39;49m: scorer},\n\u001b[1;32m    521\u001b[0m     cv\u001b[39m=\u001b[39;49mcv,\n\u001b[1;32m    522\u001b[0m     n_jobs\u001b[39m=\u001b[39;49mn_jobs,\n\u001b[1;32m    523\u001b[0m     verbose\u001b[39m=\u001b[39;49mverbose,\n\u001b[1;32m    524\u001b[0m     fit_params\u001b[39m=\u001b[39;49mfit_params,\n\u001b[1;32m    525\u001b[0m     pre_dispatch\u001b[39m=\u001b[39;49mpre_dispatch,\n\u001b[1;32m    526\u001b[0m     error_score\u001b[39m=\u001b[39;49merror_score,\n\u001b[1;32m    527\u001b[0m )\n\u001b[1;32m    528\u001b[0m \u001b[39mreturn\u001b[39;00m cv_results[\u001b[39m\"\u001b[39m\u001b[39mtest_score\u001b[39m\u001b[39m\"\u001b[39m]\n",
      "File \u001b[0;32m~/opt/anaconda3/lib/python3.9/site-packages/sklearn/model_selection/_validation.py:285\u001b[0m, in \u001b[0;36mcross_validate\u001b[0;34m(estimator, X, y, groups, scoring, cv, n_jobs, verbose, fit_params, pre_dispatch, return_train_score, return_estimator, error_score)\u001b[0m\n\u001b[1;32m    265\u001b[0m parallel \u001b[39m=\u001b[39m Parallel(n_jobs\u001b[39m=\u001b[39mn_jobs, verbose\u001b[39m=\u001b[39mverbose, pre_dispatch\u001b[39m=\u001b[39mpre_dispatch)\n\u001b[1;32m    266\u001b[0m results \u001b[39m=\u001b[39m parallel(\n\u001b[1;32m    267\u001b[0m     delayed(_fit_and_score)(\n\u001b[1;32m    268\u001b[0m         clone(estimator),\n\u001b[0;32m   (...)\u001b[0m\n\u001b[1;32m    282\u001b[0m     \u001b[39mfor\u001b[39;00m train, test \u001b[39min\u001b[39;00m cv\u001b[39m.\u001b[39msplit(X, y, groups)\n\u001b[1;32m    283\u001b[0m )\n\u001b[0;32m--> 285\u001b[0m _warn_or_raise_about_fit_failures(results, error_score)\n\u001b[1;32m    287\u001b[0m \u001b[39m# For callabe scoring, the return type is only know after calling. If the\u001b[39;00m\n\u001b[1;32m    288\u001b[0m \u001b[39m# return type is a dictionary, the error scores can now be inserted with\u001b[39;00m\n\u001b[1;32m    289\u001b[0m \u001b[39m# the correct key.\u001b[39;00m\n\u001b[1;32m    290\u001b[0m \u001b[39mif\u001b[39;00m \u001b[39mcallable\u001b[39m(scoring):\n",
      "File \u001b[0;32m~/opt/anaconda3/lib/python3.9/site-packages/sklearn/model_selection/_validation.py:367\u001b[0m, in \u001b[0;36m_warn_or_raise_about_fit_failures\u001b[0;34m(results, error_score)\u001b[0m\n\u001b[1;32m    360\u001b[0m \u001b[39mif\u001b[39;00m num_failed_fits \u001b[39m==\u001b[39m num_fits:\n\u001b[1;32m    361\u001b[0m     all_fits_failed_message \u001b[39m=\u001b[39m (\n\u001b[1;32m    362\u001b[0m         \u001b[39mf\u001b[39m\u001b[39m\"\u001b[39m\u001b[39m\\n\u001b[39;00m\u001b[39mAll the \u001b[39m\u001b[39m{\u001b[39;00mnum_fits\u001b[39m}\u001b[39;00m\u001b[39m fits failed.\u001b[39m\u001b[39m\\n\u001b[39;00m\u001b[39m\"\u001b[39m\n\u001b[1;32m    363\u001b[0m         \u001b[39m\"\u001b[39m\u001b[39mIt is very likely that your model is misconfigured.\u001b[39m\u001b[39m\\n\u001b[39;00m\u001b[39m\"\u001b[39m\n\u001b[1;32m    364\u001b[0m         \u001b[39m\"\u001b[39m\u001b[39mYou can try to debug the error by setting error_score=\u001b[39m\u001b[39m'\u001b[39m\u001b[39mraise\u001b[39m\u001b[39m'\u001b[39m\u001b[39m.\u001b[39m\u001b[39m\\n\u001b[39;00m\u001b[39m\\n\u001b[39;00m\u001b[39m\"\u001b[39m\n\u001b[1;32m    365\u001b[0m         \u001b[39mf\u001b[39m\u001b[39m\"\u001b[39m\u001b[39mBelow are more details about the failures:\u001b[39m\u001b[39m\\n\u001b[39;00m\u001b[39m{\u001b[39;00mfit_errors_summary\u001b[39m}\u001b[39;00m\u001b[39m\"\u001b[39m\n\u001b[1;32m    366\u001b[0m     )\n\u001b[0;32m--> 367\u001b[0m     \u001b[39mraise\u001b[39;00m \u001b[39mValueError\u001b[39;00m(all_fits_failed_message)\n\u001b[1;32m    369\u001b[0m \u001b[39melse\u001b[39;00m:\n\u001b[1;32m    370\u001b[0m     some_fits_failed_message \u001b[39m=\u001b[39m (\n\u001b[1;32m    371\u001b[0m         \u001b[39mf\u001b[39m\u001b[39m\"\u001b[39m\u001b[39m\\n\u001b[39;00m\u001b[39m{\u001b[39;00mnum_failed_fits\u001b[39m}\u001b[39;00m\u001b[39m fits failed out of a total of \u001b[39m\u001b[39m{\u001b[39;00mnum_fits\u001b[39m}\u001b[39;00m\u001b[39m.\u001b[39m\u001b[39m\\n\u001b[39;00m\u001b[39m\"\u001b[39m\n\u001b[1;32m    372\u001b[0m         \u001b[39m\"\u001b[39m\u001b[39mThe score on these train-test partitions for these parameters\u001b[39m\u001b[39m\"\u001b[39m\n\u001b[0;32m   (...)\u001b[0m\n\u001b[1;32m    376\u001b[0m         \u001b[39mf\u001b[39m\u001b[39m\"\u001b[39m\u001b[39mBelow are more details about the failures:\u001b[39m\u001b[39m\\n\u001b[39;00m\u001b[39m{\u001b[39;00mfit_errors_summary\u001b[39m}\u001b[39;00m\u001b[39m\"\u001b[39m\n\u001b[1;32m    377\u001b[0m     )\n",
      "\u001b[0;31mValueError\u001b[0m: \nAll the 5 fits failed.\nIt is very likely that your model is misconfigured.\nYou can try to debug the error by setting error_score='raise'.\n\nBelow are more details about the failures:\n--------------------------------------------------------------------------------\n5 fits failed with the following error:\nTraceback (most recent call last):\n  File \"/Users/taddbackus/opt/anaconda3/lib/python3.9/site-packages/sklearn/model_selection/_validation.py\", line 686, in _fit_and_score\n    estimator.fit(X_train, y_train, **fit_params)\n  File \"/Users/taddbackus/opt/anaconda3/lib/python3.9/site-packages/sklearn/linear_model/_logistic.py\", line 1196, in fit\n    X, y = self._validate_data(\n  File \"/Users/taddbackus/opt/anaconda3/lib/python3.9/site-packages/sklearn/base.py\", line 584, in _validate_data\n    X, y = check_X_y(X, y, **check_params)\n  File \"/Users/taddbackus/opt/anaconda3/lib/python3.9/site-packages/sklearn/utils/validation.py\", line 1106, in check_X_y\n    X = check_array(\n  File \"/Users/taddbackus/opt/anaconda3/lib/python3.9/site-packages/sklearn/utils/validation.py\", line 879, in check_array\n    array = _asarray_with_order(array, order=order, dtype=dtype, xp=xp)\n  File \"/Users/taddbackus/opt/anaconda3/lib/python3.9/site-packages/sklearn/utils/_array_api.py\", line 185, in _asarray_with_order\n    array = numpy.asarray(array, order=order, dtype=dtype)\n  File \"/Users/taddbackus/opt/anaconda3/lib/python3.9/site-packages/numpy/core/_asarray.py\", line 102, in asarray\n    return array(a, dtype, copy=False, order=order)\n  File \"/Users/taddbackus/opt/anaconda3/lib/python3.9/site-packages/pandas/core/generic.py\", line 1993, in __array__\n    return np.asarray(self._values, dtype=dtype)\n  File \"/Users/taddbackus/opt/anaconda3/lib/python3.9/site-packages/numpy/core/_asarray.py\", line 102, in asarray\n    return array(a, dtype, copy=False, order=order)\nValueError: could not convert string to float: 'None'\n"
     ]
    }
   ],
   "source": [
    "cross_val_score(model,X,y,scoring='accuracy')"
   ]
  }
 ],
 "metadata": {
  "kernelspec": {
   "display_name": "base",
   "language": "python",
   "name": "python3"
  },
  "language_info": {
   "codemirror_mode": {
    "name": "ipython",
    "version": 3
   },
   "file_extension": ".py",
   "mimetype": "text/x-python",
   "name": "python",
   "nbconvert_exporter": "python",
   "pygments_lexer": "ipython3",
   "version": "3.9.7"
  },
  "orig_nbformat": 4
 },
 "nbformat": 4,
 "nbformat_minor": 2
}
