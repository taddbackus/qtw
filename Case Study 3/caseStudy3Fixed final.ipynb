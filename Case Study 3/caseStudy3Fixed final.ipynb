{
 "cells": [
  {
   "cell_type": "code",
   "execution_count": 116,
   "metadata": {},
   "outputs": [],
   "source": [
    "import os\n",
    "import email\n",
    "from collections import Counter\n",
    "import numpy as np\n",
    "\n",
    "from nltk.corpus import stopwords\n",
    "\n",
    "from sklearn.feature_extraction.text import CountVectorizer, TfidfVectorizer\n",
    "from sklearn.naive_bayes import MultinomialNB\n",
    "from sklearn.model_selection import cross_val_score\n",
    "\n",
    "from sklearn.cluster import KMeans\n",
    "from sklearn.model_selection import train_test_split\n",
    "import matplotlib.pyplot as plt\n",
    "from sklearn.metrics import roc_curve, auc, confusion_matrix\n",
    "\n",
    "from bs4 import BeautifulSoup\n",
    "\n",
    "from scipy.sparse import csr_matrix\n",
    "from scipy.sparse import hstack\n",
    "from sklearn.metrics import accuracy_score, classification_report\n",
    "import seaborn as sns"
   ]
  },
  {
   "cell_type": "code",
   "execution_count": 75,
   "metadata": {},
   "outputs": [
    {
     "name": "stdout",
     "output_type": "stream",
     "text": [
      "/Users/austi/Downloads/SpamAssassinMessages/easy_ham 00067.23813c5ac6ce66fd892ee5501fd5dbd2\n",
      "______________\n",
      "Counter({'text/plain': 7413, 'text/html': 1193, 'multipart/alternative': 326, 'multipart/signed': 180, 'multipart/mixed': 179, 'multipart/related': 56, 'multipart/report': 5, 'text/plain charset=us-ascii': 1})\n"
     ]
    }
   ],
   "source": [
    "types = Counter()\n",
    "msgs = []\n",
    "trigger = True\n",
    "for root,dirs,files in os.walk('/Users/austi/Downloads/SpamAssassinMessages/'):\n",
    "    for f in files:\n",
    "        with open(os.path.join(root,f),'r',encoding='latin-1') as file_handle:\n",
    "            msg = email.message_from_file(file_handle,)\n",
    "            type_ = msg.get_content_type()\n",
    "            types[type_]+=1\n",
    "            if type_ == 'multipart/mixed' and trigger:\n",
    "                print(root,f)\n",
    "                print('______________')\n",
    "                trigger = False\n",
    "                SAMPLE = msg.get_payload()\n",
    "print(types)\n"
   ]
  },
  {
   "cell_type": "code",
   "execution_count": 76,
   "metadata": {},
   "outputs": [],
   "source": [
    "def return_txt(msg):\n",
    "    text = '' \n",
    "\n",
    "    if msg.is_multipart():\n",
    "        for item in msg.get_payload():\n",
    "            text += return_txt(item)\n",
    "    else:\n",
    "        if msg.get_content_type() == 'text/plain':\n",
    "            text += msg.get_payload()\n",
    "        elif msg.get_content_type() == 'text/html':\n",
    "            html_content = msg.get_payload(decode=True)\n",
    "            soup = BeautifulSoup(html_content, 'html.parser')\n",
    "            text += soup.get_text()\n",
    "        else:\n",
    "            text += msg.get_payload(decode=True).decode('utf-8', errors='ignore')\n",
    "\n",
    "    return text\n"
   ]
  },
  {
   "cell_type": "code",
   "execution_count": 77,
   "metadata": {},
   "outputs": [
    {
     "name": "stderr",
     "output_type": "stream",
     "text": [
      "Some characters could not be decoded, and were replaced with REPLACEMENT CHARACTER.\n",
      "Some characters could not be decoded, and were replaced with REPLACEMENT CHARACTER.\n"
     ]
    }
   ],
   "source": [
    "file_names = []\n",
    "labels = []\n",
    "messages = []\n",
    "msgType = []\n",
    "htmlMsgs = []\n",
    "msgToFix = []\n",
    "\n",
    "for root, dirs, files in os.walk('/Users/austi/Downloads/SpamAssassinMessages/'):\n",
    "    for file in files:\n",
    "        file_path = os.path.join(root, file)\n",
    "        \n",
    "        with open(file_path, 'r', encoding='latin-1') as file_handle:\n",
    "            msg = email.message_from_file(file_handle)\n",
    "            text = return_txt(msg)\n",
    "                   \n",
    "            messages.append(text)\n",
    "            \n",
    "            label = 1 if 'spam' in root else 0\n",
    "            labels.append(label)\n",
    "            \n",
    "        file_names.append(file_path)"
   ]
  },
  {
   "cell_type": "code",
   "execution_count": 78,
   "metadata": {},
   "outputs": [],
   "source": [
    "for file in msgToFix:\n",
    "    with open(file,'r',encoding='latin-1') as badFile:\n",
    "        msg = email.message_from_file(badFile)\n",
    "        for m in msg:\n",
    "            print(m[2])"
   ]
  },
  {
   "cell_type": "code",
   "execution_count": 89,
   "metadata": {},
   "outputs": [
    {
     "name": "stdout",
     "output_type": "stream",
     "text": [
      "9353\n",
      "9353\n",
      "0\n"
     ]
    }
   ],
   "source": [
    "print(len(messages))\n",
    "print(len(labels))\n",
    "print(len(htmlMsgs))"
   ]
  },
  {
   "cell_type": "code",
   "execution_count": 80,
   "metadata": {},
   "outputs": [],
   "source": [
    "messagesClean = []\n",
    "for i in messages:\n",
    "    words = i.split()\n",
    "    filtered_words = [word for word in words if word.lower() not in stopwords.words('english')]\n",
    "    messagesClean.append(' '.join(filtered_words))\n"
   ]
  },
  {
   "cell_type": "code",
   "execution_count": 81,
   "metadata": {},
   "outputs": [
    {
     "name": "stderr",
     "output_type": "stream",
     "text": [
      "IOPub data rate exceeded.\n",
      "The notebook server will temporarily stop sending output\n",
      "to the client in order to avoid crashing it.\n",
      "To change this limit, set the config variable\n",
      "`--NotebookApp.iopub_data_rate_limit`.\n",
      "\n",
      "Current values:\n",
      "NotebookApp.iopub_data_rate_limit=1000000.0 (bytes/sec)\n",
      "NotebookApp.rate_limit_window=3.0 (secs)\n",
      "\n"
     ]
    }
   ],
   "source": [
    "for i in messagesClean:\n",
    "    print(i)"
   ]
  },
  {
   "cell_type": "code",
   "execution_count": null,
   "metadata": {},
   "outputs": [],
   "source": []
  },
  {
   "cell_type": "code",
   "execution_count": 90,
   "metadata": {},
   "outputs": [],
   "source": [
    "vectorizer = CountVectorizer()\n",
    "textVector = vectorizer.fit_transform(messagesClean)"
   ]
  },
  {
   "cell_type": "code",
   "execution_count": 91,
   "metadata": {},
   "outputs": [
    {
     "data": {
      "text/html": [
       "<style>#sk-container-id-5 {color: black;}#sk-container-id-5 pre{padding: 0;}#sk-container-id-5 div.sk-toggleable {background-color: white;}#sk-container-id-5 label.sk-toggleable__label {cursor: pointer;display: block;width: 100%;margin-bottom: 0;padding: 0.3em;box-sizing: border-box;text-align: center;}#sk-container-id-5 label.sk-toggleable__label-arrow:before {content: \"▸\";float: left;margin-right: 0.25em;color: #696969;}#sk-container-id-5 label.sk-toggleable__label-arrow:hover:before {color: black;}#sk-container-id-5 div.sk-estimator:hover label.sk-toggleable__label-arrow:before {color: black;}#sk-container-id-5 div.sk-toggleable__content {max-height: 0;max-width: 0;overflow: hidden;text-align: left;background-color: #f0f8ff;}#sk-container-id-5 div.sk-toggleable__content pre {margin: 0.2em;color: black;border-radius: 0.25em;background-color: #f0f8ff;}#sk-container-id-5 input.sk-toggleable__control:checked~div.sk-toggleable__content {max-height: 200px;max-width: 100%;overflow: auto;}#sk-container-id-5 input.sk-toggleable__control:checked~label.sk-toggleable__label-arrow:before {content: \"▾\";}#sk-container-id-5 div.sk-estimator input.sk-toggleable__control:checked~label.sk-toggleable__label {background-color: #d4ebff;}#sk-container-id-5 div.sk-label input.sk-toggleable__control:checked~label.sk-toggleable__label {background-color: #d4ebff;}#sk-container-id-5 input.sk-hidden--visually {border: 0;clip: rect(1px 1px 1px 1px);clip: rect(1px, 1px, 1px, 1px);height: 1px;margin: -1px;overflow: hidden;padding: 0;position: absolute;width: 1px;}#sk-container-id-5 div.sk-estimator {font-family: monospace;background-color: #f0f8ff;border: 1px dotted black;border-radius: 0.25em;box-sizing: border-box;margin-bottom: 0.5em;}#sk-container-id-5 div.sk-estimator:hover {background-color: #d4ebff;}#sk-container-id-5 div.sk-parallel-item::after {content: \"\";width: 100%;border-bottom: 1px solid gray;flex-grow: 1;}#sk-container-id-5 div.sk-label:hover label.sk-toggleable__label {background-color: #d4ebff;}#sk-container-id-5 div.sk-serial::before {content: \"\";position: absolute;border-left: 1px solid gray;box-sizing: border-box;top: 0;bottom: 0;left: 50%;z-index: 0;}#sk-container-id-5 div.sk-serial {display: flex;flex-direction: column;align-items: center;background-color: white;padding-right: 0.2em;padding-left: 0.2em;position: relative;}#sk-container-id-5 div.sk-item {position: relative;z-index: 1;}#sk-container-id-5 div.sk-parallel {display: flex;align-items: stretch;justify-content: center;background-color: white;position: relative;}#sk-container-id-5 div.sk-item::before, #sk-container-id-5 div.sk-parallel-item::before {content: \"\";position: absolute;border-left: 1px solid gray;box-sizing: border-box;top: 0;bottom: 0;left: 50%;z-index: -1;}#sk-container-id-5 div.sk-parallel-item {display: flex;flex-direction: column;z-index: 1;position: relative;background-color: white;}#sk-container-id-5 div.sk-parallel-item:first-child::after {align-self: flex-end;width: 50%;}#sk-container-id-5 div.sk-parallel-item:last-child::after {align-self: flex-start;width: 50%;}#sk-container-id-5 div.sk-parallel-item:only-child::after {width: 0;}#sk-container-id-5 div.sk-dashed-wrapped {border: 1px dashed gray;margin: 0 0.4em 0.5em 0.4em;box-sizing: border-box;padding-bottom: 0.4em;background-color: white;}#sk-container-id-5 div.sk-label label {font-family: monospace;font-weight: bold;display: inline-block;line-height: 1.2em;}#sk-container-id-5 div.sk-label-container {text-align: center;}#sk-container-id-5 div.sk-container {/* jupyter's `normalize.less` sets `[hidden] { display: none; }` but bootstrap.min.css set `[hidden] { display: none !important; }` so we also need the `!important` here to be able to override the default hidden behavior on the sphinx rendered scikit-learn.org. See: https://github.com/scikit-learn/scikit-learn/issues/21755 */display: inline-block !important;position: relative;}#sk-container-id-5 div.sk-text-repr-fallback {display: none;}</style><div id=\"sk-container-id-5\" class=\"sk-top-container\"><div class=\"sk-text-repr-fallback\"><pre>KMeans(random_state=42)</pre><b>In a Jupyter environment, please rerun this cell to show the HTML representation or trust the notebook. <br />On GitHub, the HTML representation is unable to render, please try loading this page with nbviewer.org.</b></div><div class=\"sk-container\" hidden><div class=\"sk-item\"><div class=\"sk-estimator sk-toggleable\"><input class=\"sk-toggleable__control sk-hidden--visually\" id=\"sk-estimator-id-5\" type=\"checkbox\" checked><label for=\"sk-estimator-id-5\" class=\"sk-toggleable__label sk-toggleable__label-arrow\">KMeans</label><div class=\"sk-toggleable__content\"><pre>KMeans(random_state=42)</pre></div></div></div></div></div>"
      ],
      "text/plain": [
       "KMeans(random_state=42)"
      ]
     },
     "execution_count": 91,
     "metadata": {},
     "output_type": "execute_result"
    }
   ],
   "source": [
    "kMeans = KMeans(random_state=42)\n",
    "kMeans.fit(textVector)"
   ]
  },
  {
   "cell_type": "code",
   "execution_count": 93,
   "metadata": {},
   "outputs": [
    {
     "data": {
      "text/plain": [
       "(9353, 105638)"
      ]
     },
     "execution_count": 93,
     "metadata": {},
     "output_type": "execute_result"
    }
   ],
   "source": [
    "# textData = textVector.toarray()\n",
    "# textData.shape\n",
    "\n",
    "\n",
    "textData = textVector.tocsr()\n",
    "textData.shape"
   ]
  },
  {
   "cell_type": "code",
   "execution_count": 98,
   "metadata": {},
   "outputs": [
    {
     "data": {
      "text/plain": [
       "(9353, 105639)"
      ]
     },
     "execution_count": 98,
     "metadata": {},
     "output_type": "execute_result"
    }
   ],
   "source": [
    "# cluster_column = np.array(kMeans.labels_).reshape(-1, 1)\n",
    "# textClusters = np.hstack((textData,cluster_column))\n",
    "# textClusters.shape\n",
    "\n",
    "\n",
    "\n",
    "cluster_column = np.array(kMeans.labels_).reshape(-1, 1)\n",
    "textClusters = hstack((textData, cluster_column))\n",
    "textClusters_shape = textClusters.shape\n",
    "\n",
    "textClusters_shape\n"
   ]
  },
  {
   "cell_type": "code",
   "execution_count": 99,
   "metadata": {},
   "outputs": [],
   "source": [
    "X_train, x_test, y_train, y_test = train_test_split(textClusters,labels,test_size=0.2,random_state=42)"
   ]
  },
  {
   "cell_type": "code",
   "execution_count": 100,
   "metadata": {},
   "outputs": [],
   "source": [
    "nb = MultinomialNB()"
   ]
  },
  {
   "cell_type": "code",
   "execution_count": 101,
   "metadata": {},
   "outputs": [
    {
     "data": {
      "text/html": [
       "<style>#sk-container-id-6 {color: black;}#sk-container-id-6 pre{padding: 0;}#sk-container-id-6 div.sk-toggleable {background-color: white;}#sk-container-id-6 label.sk-toggleable__label {cursor: pointer;display: block;width: 100%;margin-bottom: 0;padding: 0.3em;box-sizing: border-box;text-align: center;}#sk-container-id-6 label.sk-toggleable__label-arrow:before {content: \"▸\";float: left;margin-right: 0.25em;color: #696969;}#sk-container-id-6 label.sk-toggleable__label-arrow:hover:before {color: black;}#sk-container-id-6 div.sk-estimator:hover label.sk-toggleable__label-arrow:before {color: black;}#sk-container-id-6 div.sk-toggleable__content {max-height: 0;max-width: 0;overflow: hidden;text-align: left;background-color: #f0f8ff;}#sk-container-id-6 div.sk-toggleable__content pre {margin: 0.2em;color: black;border-radius: 0.25em;background-color: #f0f8ff;}#sk-container-id-6 input.sk-toggleable__control:checked~div.sk-toggleable__content {max-height: 200px;max-width: 100%;overflow: auto;}#sk-container-id-6 input.sk-toggleable__control:checked~label.sk-toggleable__label-arrow:before {content: \"▾\";}#sk-container-id-6 div.sk-estimator input.sk-toggleable__control:checked~label.sk-toggleable__label {background-color: #d4ebff;}#sk-container-id-6 div.sk-label input.sk-toggleable__control:checked~label.sk-toggleable__label {background-color: #d4ebff;}#sk-container-id-6 input.sk-hidden--visually {border: 0;clip: rect(1px 1px 1px 1px);clip: rect(1px, 1px, 1px, 1px);height: 1px;margin: -1px;overflow: hidden;padding: 0;position: absolute;width: 1px;}#sk-container-id-6 div.sk-estimator {font-family: monospace;background-color: #f0f8ff;border: 1px dotted black;border-radius: 0.25em;box-sizing: border-box;margin-bottom: 0.5em;}#sk-container-id-6 div.sk-estimator:hover {background-color: #d4ebff;}#sk-container-id-6 div.sk-parallel-item::after {content: \"\";width: 100%;border-bottom: 1px solid gray;flex-grow: 1;}#sk-container-id-6 div.sk-label:hover label.sk-toggleable__label {background-color: #d4ebff;}#sk-container-id-6 div.sk-serial::before {content: \"\";position: absolute;border-left: 1px solid gray;box-sizing: border-box;top: 0;bottom: 0;left: 50%;z-index: 0;}#sk-container-id-6 div.sk-serial {display: flex;flex-direction: column;align-items: center;background-color: white;padding-right: 0.2em;padding-left: 0.2em;position: relative;}#sk-container-id-6 div.sk-item {position: relative;z-index: 1;}#sk-container-id-6 div.sk-parallel {display: flex;align-items: stretch;justify-content: center;background-color: white;position: relative;}#sk-container-id-6 div.sk-item::before, #sk-container-id-6 div.sk-parallel-item::before {content: \"\";position: absolute;border-left: 1px solid gray;box-sizing: border-box;top: 0;bottom: 0;left: 50%;z-index: -1;}#sk-container-id-6 div.sk-parallel-item {display: flex;flex-direction: column;z-index: 1;position: relative;background-color: white;}#sk-container-id-6 div.sk-parallel-item:first-child::after {align-self: flex-end;width: 50%;}#sk-container-id-6 div.sk-parallel-item:last-child::after {align-self: flex-start;width: 50%;}#sk-container-id-6 div.sk-parallel-item:only-child::after {width: 0;}#sk-container-id-6 div.sk-dashed-wrapped {border: 1px dashed gray;margin: 0 0.4em 0.5em 0.4em;box-sizing: border-box;padding-bottom: 0.4em;background-color: white;}#sk-container-id-6 div.sk-label label {font-family: monospace;font-weight: bold;display: inline-block;line-height: 1.2em;}#sk-container-id-6 div.sk-label-container {text-align: center;}#sk-container-id-6 div.sk-container {/* jupyter's `normalize.less` sets `[hidden] { display: none; }` but bootstrap.min.css set `[hidden] { display: none !important; }` so we also need the `!important` here to be able to override the default hidden behavior on the sphinx rendered scikit-learn.org. See: https://github.com/scikit-learn/scikit-learn/issues/21755 */display: inline-block !important;position: relative;}#sk-container-id-6 div.sk-text-repr-fallback {display: none;}</style><div id=\"sk-container-id-6\" class=\"sk-top-container\"><div class=\"sk-text-repr-fallback\"><pre>MultinomialNB()</pre><b>In a Jupyter environment, please rerun this cell to show the HTML representation or trust the notebook. <br />On GitHub, the HTML representation is unable to render, please try loading this page with nbviewer.org.</b></div><div class=\"sk-container\" hidden><div class=\"sk-item\"><div class=\"sk-estimator sk-toggleable\"><input class=\"sk-toggleable__control sk-hidden--visually\" id=\"sk-estimator-id-6\" type=\"checkbox\" checked><label for=\"sk-estimator-id-6\" class=\"sk-toggleable__label sk-toggleable__label-arrow\">MultinomialNB</label><div class=\"sk-toggleable__content\"><pre>MultinomialNB()</pre></div></div></div></div></div>"
      ],
      "text/plain": [
       "MultinomialNB()"
      ]
     },
     "execution_count": 101,
     "metadata": {},
     "output_type": "execute_result"
    }
   ],
   "source": [
    "nb.fit(textClusters,labels)"
   ]
  },
  {
   "cell_type": "code",
   "execution_count": 103,
   "metadata": {},
   "outputs": [
    {
     "data": {
      "text/plain": [
       "array([0.9759519 , 0.98062792, 0.97794118, 0.98128342, 0.98663102])"
      ]
     },
     "execution_count": 103,
     "metadata": {},
     "output_type": "execute_result"
    }
   ],
   "source": [
    "# cross_val_score(nb,textClusters,labels,cv=5,n_jobs=-1,scoring='accuracy')\n",
    "cross_val_score(nb,X_train, y_train,cv=5,scoring='accuracy')\n",
    "    "
   ]
  },
  {
   "cell_type": "code",
   "execution_count": 107,
   "metadata": {},
   "outputs": [
    {
     "name": "stdout",
     "output_type": "stream",
     "text": [
      "Alpha = 0.001:\n",
      "Cross-Validation Scores: [0.97929192 0.98196393 0.97860963 0.98596257 0.98863636]\n",
      "Mean Cross-Validation Accuracy: 0.9828928802346224\n",
      "--------------------------------------------------------\n",
      "\n",
      "Alpha = 0.01:\n",
      "Cross-Validation Scores: [0.98129593 0.98530394 0.97927807 0.98729947 0.98863636]\n",
      "Mean Cross-Validation Accuracy: 0.9843627540285562\n",
      "--------------------------------------------------------\n",
      "\n",
      "Alpha = 0.1:\n",
      "Cross-Validation Scores: [0.98129593 0.98396794 0.98262032 0.98663102 0.98930481]\n",
      "Mean Cross-Validation Accuracy: 0.984764002157613\n",
      "--------------------------------------------------------\n",
      "\n",
      "Alpha = 0.5:\n",
      "Cross-Validation Scores: [0.98062792 0.98263193 0.98328877 0.98462567 0.98863636]\n",
      "Mean Cross-Validation Accuracy: 0.9839621310356899\n",
      "--------------------------------------------------------\n",
      "\n",
      "Alpha = 1.0:\n",
      "Cross-Validation Scores: [0.9759519  0.98062792 0.97794118 0.98128342 0.98663102]\n",
      "Mean Cross-Validation Accuracy: 0.9804870882585135\n",
      "--------------------------------------------------------\n",
      "\n",
      "Alpha = 1.5:\n",
      "Cross-Validation Scores: [0.97194389 0.97728791 0.97526738 0.97994652 0.98195187]\n",
      "Mean Cross-Validation Accuracy: 0.9772795144656514\n",
      "--------------------------------------------------------\n",
      "\n",
      "Alpha = 2.0:\n",
      "Cross-Validation Scores: [0.96927188 0.97327989 0.97058824 0.97593583 0.97994652]\n",
      "Mean Cross-Validation Accuracy: 0.9738044716884751\n",
      "--------------------------------------------------------\n",
      "\n"
     ]
    }
   ],
   "source": [
    "alpha_values = [0.001, 0.01, 0.1, 0.5, 1.0, 1.5, 2.0]\n",
    "\n",
    "accuracies = []\n",
    "classification_reports = []\n",
    "\n",
    "for alpha in alpha_values:\n",
    "    nb_classifier = MultinomialNB(alpha=alpha)\n",
    "    \n",
    "    cv_scores = cross_val_score(nb_classifier, X_train, y_train, cv=5)\n",
    "    \n",
    "    nb_classifier.fit(X_train, y_train)\n",
    "    \n",
    "    y_pred = nb_classifier.predict(x_test)\n",
    "    \n",
    "    accuracy = accuracy_score(y_test, y_pred)\n",
    "    \n",
    "    classification_rep = classification_report(y_test, y_pred, target_names=['Class 0', 'Class 1'])\n",
    "    \n",
    "    accuracies.append(accuracy)\n",
    "    classification_reports.append(classification_rep)\n",
    "    \n",
    "    print(f'Alpha = {alpha}:')\n",
    "    print('Cross-Validation Scores:', cv_scores)\n",
    "    print('Mean Cross-Validation Accuracy:', cv_scores.mean())\n",
    "    print('--------------------------------------------------------\\n')"
   ]
  },
  {
   "cell_type": "code",
   "execution_count": 108,
   "metadata": {},
   "outputs": [
    {
     "data": {
      "text/html": [
       "<style>#sk-container-id-7 {color: black;}#sk-container-id-7 pre{padding: 0;}#sk-container-id-7 div.sk-toggleable {background-color: white;}#sk-container-id-7 label.sk-toggleable__label {cursor: pointer;display: block;width: 100%;margin-bottom: 0;padding: 0.3em;box-sizing: border-box;text-align: center;}#sk-container-id-7 label.sk-toggleable__label-arrow:before {content: \"▸\";float: left;margin-right: 0.25em;color: #696969;}#sk-container-id-7 label.sk-toggleable__label-arrow:hover:before {color: black;}#sk-container-id-7 div.sk-estimator:hover label.sk-toggleable__label-arrow:before {color: black;}#sk-container-id-7 div.sk-toggleable__content {max-height: 0;max-width: 0;overflow: hidden;text-align: left;background-color: #f0f8ff;}#sk-container-id-7 div.sk-toggleable__content pre {margin: 0.2em;color: black;border-radius: 0.25em;background-color: #f0f8ff;}#sk-container-id-7 input.sk-toggleable__control:checked~div.sk-toggleable__content {max-height: 200px;max-width: 100%;overflow: auto;}#sk-container-id-7 input.sk-toggleable__control:checked~label.sk-toggleable__label-arrow:before {content: \"▾\";}#sk-container-id-7 div.sk-estimator input.sk-toggleable__control:checked~label.sk-toggleable__label {background-color: #d4ebff;}#sk-container-id-7 div.sk-label input.sk-toggleable__control:checked~label.sk-toggleable__label {background-color: #d4ebff;}#sk-container-id-7 input.sk-hidden--visually {border: 0;clip: rect(1px 1px 1px 1px);clip: rect(1px, 1px, 1px, 1px);height: 1px;margin: -1px;overflow: hidden;padding: 0;position: absolute;width: 1px;}#sk-container-id-7 div.sk-estimator {font-family: monospace;background-color: #f0f8ff;border: 1px dotted black;border-radius: 0.25em;box-sizing: border-box;margin-bottom: 0.5em;}#sk-container-id-7 div.sk-estimator:hover {background-color: #d4ebff;}#sk-container-id-7 div.sk-parallel-item::after {content: \"\";width: 100%;border-bottom: 1px solid gray;flex-grow: 1;}#sk-container-id-7 div.sk-label:hover label.sk-toggleable__label {background-color: #d4ebff;}#sk-container-id-7 div.sk-serial::before {content: \"\";position: absolute;border-left: 1px solid gray;box-sizing: border-box;top: 0;bottom: 0;left: 50%;z-index: 0;}#sk-container-id-7 div.sk-serial {display: flex;flex-direction: column;align-items: center;background-color: white;padding-right: 0.2em;padding-left: 0.2em;position: relative;}#sk-container-id-7 div.sk-item {position: relative;z-index: 1;}#sk-container-id-7 div.sk-parallel {display: flex;align-items: stretch;justify-content: center;background-color: white;position: relative;}#sk-container-id-7 div.sk-item::before, #sk-container-id-7 div.sk-parallel-item::before {content: \"\";position: absolute;border-left: 1px solid gray;box-sizing: border-box;top: 0;bottom: 0;left: 50%;z-index: -1;}#sk-container-id-7 div.sk-parallel-item {display: flex;flex-direction: column;z-index: 1;position: relative;background-color: white;}#sk-container-id-7 div.sk-parallel-item:first-child::after {align-self: flex-end;width: 50%;}#sk-container-id-7 div.sk-parallel-item:last-child::after {align-self: flex-start;width: 50%;}#sk-container-id-7 div.sk-parallel-item:only-child::after {width: 0;}#sk-container-id-7 div.sk-dashed-wrapped {border: 1px dashed gray;margin: 0 0.4em 0.5em 0.4em;box-sizing: border-box;padding-bottom: 0.4em;background-color: white;}#sk-container-id-7 div.sk-label label {font-family: monospace;font-weight: bold;display: inline-block;line-height: 1.2em;}#sk-container-id-7 div.sk-label-container {text-align: center;}#sk-container-id-7 div.sk-container {/* jupyter's `normalize.less` sets `[hidden] { display: none; }` but bootstrap.min.css set `[hidden] { display: none !important; }` so we also need the `!important` here to be able to override the default hidden behavior on the sphinx rendered scikit-learn.org. See: https://github.com/scikit-learn/scikit-learn/issues/21755 */display: inline-block !important;position: relative;}#sk-container-id-7 div.sk-text-repr-fallback {display: none;}</style><div id=\"sk-container-id-7\" class=\"sk-top-container\"><div class=\"sk-text-repr-fallback\"><pre>MultinomialNB()</pre><b>In a Jupyter environment, please rerun this cell to show the HTML representation or trust the notebook. <br />On GitHub, the HTML representation is unable to render, please try loading this page with nbviewer.org.</b></div><div class=\"sk-container\" hidden><div class=\"sk-item\"><div class=\"sk-estimator sk-toggleable\"><input class=\"sk-toggleable__control sk-hidden--visually\" id=\"sk-estimator-id-7\" type=\"checkbox\" checked><label for=\"sk-estimator-id-7\" class=\"sk-toggleable__label sk-toggleable__label-arrow\">MultinomialNB</label><div class=\"sk-toggleable__content\"><pre>MultinomialNB()</pre></div></div></div></div></div>"
      ],
      "text/plain": [
       "MultinomialNB()"
      ]
     },
     "execution_count": 108,
     "metadata": {},
     "output_type": "execute_result"
    }
   ],
   "source": [
    "nb = MultinomialNB()\n",
    "nb.fit(X_train,y_train)"
   ]
  },
  {
   "cell_type": "code",
   "execution_count": 109,
   "metadata": {},
   "outputs": [],
   "source": [
    "yScore = nb.predict_proba(x_test)[:,1]\n",
    "yClass = nb.predict(x_test)"
   ]
  },
  {
   "cell_type": "code",
   "execution_count": 110,
   "metadata": {},
   "outputs": [
    {
     "name": "stdout",
     "output_type": "stream",
     "text": [
      "1871\n",
      "1871\n"
     ]
    }
   ],
   "source": [
    "print(len(y_test))\n",
    "print(len(yScore))"
   ]
  },
  {
   "cell_type": "code",
   "execution_count": 111,
   "metadata": {},
   "outputs": [],
   "source": [
    "fpr, tpr, threshold = roc_curve(y_test,yScore)\n",
    "roc_auc = auc(fpr,tpr)"
   ]
  },
  {
   "cell_type": "code",
   "execution_count": 112,
   "metadata": {},
   "outputs": [
    {
     "name": "stdout",
     "output_type": "stream",
     "text": [
      "0.0 0.0 inf\n",
      "0.0050323508267433505 0.74375 1.0\n",
      "0.0050323508267433505 0.7458333333333333 0.9999999999999716\n",
      "0.0050323508267433505 0.7541666666666667 0.9999999999998863\n",
      "0.0050323508267433505 0.76875 0.9999999999933209\n",
      "0.0050323508267433505 0.7729166666666667 0.999999999990905\n",
      "0.0050323508267433505 0.7979166666666667 0.9999999998133262\n",
      "0.0050323508267433505 0.8020833333333334 0.9999999997817781\n",
      "0.0050323508267433505 0.80625 0.9999999975066203\n",
      "0.0050323508267433505 0.8104166666666667 0.9999999972187652\n",
      "0.0050323508267433505 0.84375 0.9999976510721655\n",
      "0.0050323508267433505 0.8479166666666667 0.9999975728230663\n",
      "0.0050323508267433505 0.85625 0.9999936961699827\n",
      "0.0050323508267433505 0.8604166666666667 0.9999924628719267\n",
      "0.0050323508267433505 0.8625 0.9999912356579821\n",
      "0.0050323508267433505 0.8666666666666667 0.9999797640134606\n",
      "0.0050323508267433505 0.9104166666666667 0.9947764232475598\n",
      "0.0050323508267433505 0.9145833333333333 0.9913193714173847\n",
      "0.0050323508267433505 0.9166666666666666 0.9883588821817983\n",
      "0.0050323508267433505 0.9208333333333333 0.9883255449816706\n",
      "0.0050323508267433505 0.9291666666666667 0.9741771529509069\n",
      "0.006470165348670022 0.9291666666666667 0.9714117981044302\n",
      "0.006470165348670022 0.93125 0.9636635069697994\n",
      "0.006470165348670022 0.9354166666666667 0.9618136638343615\n",
      "0.006470165348670022 0.9520833333333333 0.3552121522146568\n",
      "0.006470165348670022 0.9583333333333334 0.25648222400427684\n",
      "0.006470165348670022 0.9604166666666667 0.055719650415885565\n",
      "0.007189072609633357 0.9604166666666667 0.041720358579623605\n",
      "0.007189072609633357 0.9625 0.021635432836313015\n",
      "0.007189072609633357 0.9666666666666667 0.0057870843538728525\n",
      "0.007907979870596693 0.9666666666666667 0.004737799291118298\n",
      "0.007907979870596693 0.9729166666666667 0.00021929965818304623\n",
      "0.009345794392523364 0.9729166666666667 0.00015787811602643246\n",
      "0.009345794392523364 0.9770833333333333 0.000117215497652558\n",
      "0.009345794392523364 0.9791666666666666 0.00010692438019774206\n",
      "0.010064701653486701 0.9791666666666666 5.608158803905527e-05\n",
      "0.010064701653486701 0.98125 5.492763565268866e-05\n",
      "0.012940330697340043 0.98125 6.938231934568753e-07\n",
      "0.012940330697340043 0.9833333333333333 4.213238826539259e-07\n",
      "0.03306973400431344 0.9833333333333333 1.045880179916101e-09\n",
      "0.03450754852624011 0.9833333333333333 9.138208713560036e-10\n",
      "0.03666427030913012 0.9833333333333333 6.473565183262291e-10\n",
      "0.03666427030913012 0.9854166666666667 4.5482488743818225e-10\n",
      "0.041696621135873475 0.9854166666666667 2.763114448118898e-10\n",
      "0.043134435657800146 0.9854166666666667 2.021659940711711e-10\n",
      "0.051042415528396834 0.9854166666666667 5.719504488134063e-11\n",
      "0.052480230050323505 0.9854166666666667 4.928635270271257e-11\n",
      "0.053199137311286844 0.9854166666666667 4.383849389161475e-11\n",
      "0.053199137311286844 0.9875 4.190764301406751e-11\n",
      "0.06110711718188354 0.9875 1.2070564205253217e-11\n",
      "0.0625449317038102 0.9875 7.765691292033912e-12\n",
      "0.06398274622573688 0.9875 7.600394251985602e-12\n",
      "0.06398274622573688 0.9895833333333334 6.912805539159548e-12\n",
      "0.06542056074766354 0.9895833333333334 5.943798978575947e-12\n",
      "0.06542056074766354 0.9916666666666667 4.369687939169951e-12\n",
      "0.06685837526959022 0.9916666666666667 3.652771592188506e-12\n",
      "0.06685837526959022 0.99375 3.1606413693752624e-12\n",
      "0.07189072609633357 0.99375 2.251310000992168e-12\n",
      "0.07189072609633357 0.9958333333333333 2.1711059415614097e-12\n",
      "0.07476635514018691 0.9958333333333333 1.5967450500620212e-12\n",
      "0.07620416966211359 0.9958333333333333 1.3263042620256969e-12\n",
      "0.07692307692307693 0.9958333333333333 1.3014084162758867e-12\n",
      "0.07836089144500359 0.9958333333333333 1.1941565107416138e-12\n",
      "0.08770668583752696 0.9958333333333333 3.5559615227601055e-13\n",
      "0.08914450035945364 0.9958333333333333 3.3865076180814456e-13\n",
      "0.09130122214234364 0.9958333333333333 3.1106685170450274e-13\n",
      "0.0927390366642703 0.9958333333333333 3.0899626418741433e-13\n",
      "0.09561466570812366 0.9958333333333333 1.2475998446705268e-13\n",
      "0.09705248023005032 0.9958333333333333 1.0479342191903485e-13\n",
      "0.10208483105679367 0.9958333333333333 3.164055848705138e-14\n",
      "0.10352264557872035 0.9958333333333333 2.689004316629617e-14\n",
      "0.10639827462257369 0.9958333333333333 1.1437131743271823e-14\n",
      "0.10783608914450037 0.9958333333333333 1.0884844694866307e-14\n",
      "0.1186196980589504 0.9958333333333333 4.250059402950851e-15\n",
      "0.12005751258087707 0.9958333333333333 4.168461476542791e-15\n",
      "0.13299784327821712 0.9958333333333333 3.0986795653718335e-16\n",
      "0.13587347232207045 0.9958333333333333 2.8458720425193905e-16\n",
      "0.14593817397555714 0.9958333333333333 1.0237572299026023e-17\n",
      "0.14737598849748382 0.9958333333333333 6.111626858897828e-18\n",
      "0.1488138030194105 0.9958333333333333 5.876103272310203e-18\n",
      "0.15025161754133717 0.9958333333333333 4.951954607302909e-18\n",
      "0.15168943206326385 0.9958333333333333 2.900887186922311e-18\n",
      "0.1531272465851905 0.9958333333333333 2.575784196024307e-18\n",
      "0.15600287562904386 0.9958333333333333 1.6219870717559297e-18\n",
      "0.15744069015097054 0.9958333333333333 1.3354706887236137e-18\n",
      "0.15959741193386054 0.9958333333333333 9.099613092233488e-19\n",
      "0.16103522645578722 0.9958333333333333 6.499135534809951e-19\n",
      "0.16750539180445723 0.9958333333333333 2.78491871878759e-19\n",
      "0.16966211358734723 0.9958333333333333 2.575444140571341e-19\n",
      "0.17613227893601727 0.9958333333333333 1.1078510355589716e-19\n",
      "0.17757009345794392 0.9958333333333333 9.456316180944328e-20\n",
      "0.17828900071890727 0.9958333333333333 9.274043811617079e-20\n",
      "0.18188353702372395 0.9958333333333333 6.212498588133161e-20\n",
      "0.1833213515456506 0.9958333333333333 4.5133100637723124e-20\n",
      "0.18475916606757728 0.9958333333333333 3.859332384339635e-20\n",
      "0.18907260963335729 0.9958333333333333 1.8768066013984897e-20\n",
      "0.19051042415528396 0.9958333333333333 8.581964068800169e-21\n",
      "0.199137311286844 0.9958333333333333 1.0177517180899803e-21\n",
      "0.201294033069734 0.9958333333333333 9.467938127224184e-22\n",
      "0.2092020129403307 0.9958333333333333 1.7077646493227595e-22\n",
      "0.21063982746225737 0.9958333333333333 1.554068953088811e-22\n",
      "0.21782890007189074 0.9958333333333333 3.0171477761921315e-23\n",
      "0.21926671459381739 0.9958333333333333 2.8744430150944685e-23\n",
      "0.22358015815959742 0.9958333333333333 1.8130518565405626e-23\n",
      "0.22358015815959742 0.9979166666666667 1.665324760932091e-23\n",
      "0.2271746944644141 0.9979166666666667 1.0144041567689361e-23\n",
      "0.23005032350826743 0.9979166666666667 7.740887434848143e-24\n",
      "0.2358015815959741 0.9979166666666667 4.178142467551273e-24\n",
      "0.2372393961179008 0.9979166666666667 3.2213273285478684e-24\n",
      "0.23867721063982747 0.9979166666666667 2.018002668517493e-24\n",
      "0.24011502516175415 0.9979166666666667 1.845718424480286e-24\n",
      "0.24514737598849748 0.9979166666666667 7.858008631349988e-25\n",
      "0.24658519051042416 0.9979166666666667 7.396130502757324e-25\n",
      "0.2523364485981308 0.9979166666666667 2.495396869294759e-25\n",
      "0.2537742631200575 0.9979166666666667 2.3088587189835384e-25\n",
      "0.25521207764198417 0.9979166666666667 1.867236986864897e-25\n",
      "0.2566498921639109 0.9979166666666667 1.825864674861429e-25\n",
      "0.2631200575125809 0.9979166666666667 3.102952507600973e-26\n",
      "0.26455787203450754 0.9979166666666667 2.8984091994230536e-26\n",
      "0.26671459381739754 0.9979166666666667 1.9447401143981316e-26\n",
      "0.26815240833932424 0.9979166666666667 1.9443385582836944e-26\n",
      "0.2695902228612509 0.9979166666666667 1.6740598503132214e-26\n",
      "0.27102803738317754 0.9979166666666667 1.532302481734992e-26\n",
      "0.2796549245147376 0.9979166666666667 2.543308345257029e-27\n",
      "0.28109273903666426 0.9979166666666667 1.4970256978478008e-27\n",
      "0.29259525521207763 0.9979166666666667 1.47768523607171e-28\n",
      "0.29403306973400434 0.9979166666666667 1.4201831099982647e-28\n",
      "0.297627606038821 0.9979166666666667 9.858898168139954e-29\n",
      "0.29906542056074764 0.9979166666666667 9.29496752862794e-29\n",
      "0.3199137311286844 0.9979166666666667 7.548820895534333e-31\n",
      "0.3213515456506111 0.9979166666666667 6.934485984689602e-31\n",
      "0.32710280373831774 0.9979166666666667 2.7125244889404056e-31\n",
      "0.32854061826024444 0.9979166666666667 2.651414002008941e-31\n",
      "0.34363767074047447 0.9979166666666667 1.0904721941085589e-32\n",
      "0.34507548526240117 0.9979166666666667 9.599972552854381e-33\n",
      "0.35873472322070454 0.9979166666666667 4.4686288018823804e-34\n",
      "0.3601725377426312 0.9979166666666667 3.866686383846404e-34\n",
      "0.36304816678648455 0.9979166666666667 1.4934812127345507e-34\n",
      "0.36304816678648455 1.0 1.401986734340347e-34\n",
      "0.3644859813084112 1.0 7.059922988511523e-35\n",
      "0.3659237958303379 1.0 6.365955832234163e-35\n",
      "0.3687994248741912 1.0 5.206771153534017e-35\n",
      "0.3702372393961179 1.0 5.171176876416249e-35\n",
      "0.3709561466570812 1.0 1.9879758423054757e-35\n",
      "0.37383177570093457 1.0 1.0531000713276814e-35\n",
      "0.3803019410496046 1.0 2.0571070381984193e-36\n",
      "0.3817397555715313 1.0 1.6202618513780103e-36\n",
      "0.38749101365923794 1.0 4.996702647087913e-37\n",
      "0.38892882818116464 1.0 4.466654450639633e-37\n",
      "0.38964773544212794 1.0 3.814702296177779e-37\n",
      "0.39108554996405465 1.0 3.579058866961755e-37\n",
      "0.40833932422717467 1.0 8.559685507529379e-39\n",
      "0.4097771387491014 1.0 7.236260290552414e-39\n",
      "0.411214953271028 1.0 4.113988409004234e-39\n",
      "0.41265276779295473 1.0 4.0925807998736204e-39\n",
      "0.4162473040977714 1.0 2.6957115203631457e-39\n",
      "0.41768511861969804 1.0 2.568649843130603e-39\n",
      "0.43350107836089147 1.0 1.9830738387031042e-40\n",
      "0.4349388928828181 1.0 1.8074426863424615e-40\n",
      "0.4507548526240115 1.0 1.2077845816352361e-42\n",
      "0.4521926671459382 1.0 1.112524344605357e-42\n",
      "0.45363048166786485 1.0 9.796456299793637e-43\n",
      "0.4550682961897915 1.0 7.915350065128351e-43\n",
      "0.4572250179726815 1.0 5.188576480840971e-43\n",
      "0.4593817397555715 1.0 5.0156905769383844e-43\n",
      "0.4608195542774982 1.0 4.646997052167586e-43\n",
      "0.46872753414809487 1.0 8.201792265051146e-44\n",
      "0.4701653486700216 1.0 8.037847231370062e-44\n",
      "0.47951114306254494 1.0 9.64266448392064e-45\n",
      "0.4823867721063983 1.0 3.953968633857487e-45\n",
      "0.5183321351545651 1.0 2.0804761611394145e-49\n",
      "0.5212077641984184 1.0 1.2816492471826754e-49\n",
      "0.5305535585909418 1.0 3.0012807957009235e-50\n",
      "0.5319913731128685 1.0 2.67014586155855e-50\n",
      "0.5384615384615384 1.0 4.299816370423476e-51\n",
      "0.5398993529834651 1.0 2.8466082361010957e-51\n",
      "0.5406182602444285 1.0 1.8781945258984584e-51\n",
      "0.5420560747663551 1.0 1.743906634651654e-51\n",
      "0.5514018691588785 1.0 1.0725186858591101e-53\n",
      "0.5528396836808052 1.0 9.299485034586024e-54\n",
      "0.5571531272465852 1.0 2.4117681617189322e-54\n",
      "0.5600287562904386 1.0 2.0329449999071037e-54\n",
      "0.5650611071171819 1.0 4.072753235129994e-55\n",
      "0.5664989216391085 1.0 3.806348776291315e-55\n",
      "0.5880661394680087 1.0 2.6500779133081462e-58\n",
      "0.5895039539899353 1.0 2.5285148476060365e-58\n",
      "0.6139468008626887 1.0 4.149389037959422e-61\n",
      "0.6153846153846154 1.0 3.3509463042202264e-61\n",
      "0.6182602444284687 1.0 1.1621907247447754e-61\n",
      "0.6196980589503954 1.0 4.380695403254654e-62\n",
      "0.6218547807332854 1.0 3.5849294905493166e-62\n",
      "0.6232925952552121 1.0 2.990253633628566e-62\n",
      "0.6240115025161754 1.0 1.2934656673055307e-62\n",
      "0.6254493170381021 1.0 1.1812396502901336e-62\n",
      "0.6383896477354422 1.0 1.0307497572275621e-64\n",
      "0.6412652767792955 1.0 7.080634729979946e-65\n",
      "0.6506110711718188 1.0 4.0721947045096754e-66\n",
      "0.6520488856937455 1.0 1.5146616968639062e-66\n",
      "0.6628324946081955 1.0 9.304717191009901e-68\n",
      "0.6642703091301222 1.0 4.5211576543995246e-68\n",
      "0.6915887850467289 1.0 2.8970074862902405e-72\n",
      "0.6930265995686556 1.0 1.7103286349332762e-72\n",
      "0.6994967649173257 1.0 1.9488472601650965e-73\n",
      "0.7009345794392523 1.0 1.663645934636283e-73\n",
      "0.7081236520488857 1.0 3.116540173993558e-74\n",
      "0.7095614665708123 1.0 2.5159195408313754e-74\n",
      "0.7253774263120057 1.0 1.3588191901166447e-77\n",
      "0.7268152408339325 1.0 9.485871391369041e-78\n",
      "0.7361610352264558 1.0 5.2805204759619006e-79\n",
      "0.7375988497483824 1.0 1.9978005546032558e-79\n",
      "0.7447879223580158 1.0 1.2731870445723165e-81\n",
      "0.7462257368799425 1.0 9.320933370837261e-82\n",
      "0.7483824586628325 1.0 4.3824492275627177e-82\n",
      "0.7498202731847592 1.0 4.200849059033431e-82\n",
      "0.7864845434938893 1.0 1.1758576459776567e-93\n",
      "0.787922358015816 1.0 1.0994810157744592e-93\n",
      "0.7972681524083394 1.0 1.952113104944216e-96\n",
      "0.798705966930266 1.0 1.8217566399552545e-96\n",
      "0.8044572250179727 1.0 3.4829222592042656e-98\n",
      "0.8058950395398994 1.0 2.9048450944164056e-98\n",
      "0.8231488138030194 1.0 6.783056989649872e-105\n",
      "0.8274622573687994 1.0 1.6781756083121789e-105\n",
      "0.8289000718907261 1.0 4.600207871441062e-106\n",
      "0.8303378864126527 1.0 4.0299356889181573e-106\n",
      "0.8461538461538461 1.0 4.412139132632547e-113\n",
      "0.8475916606757729 1.0 4.3307254100283875e-113\n",
      "0.8490294751976994 1.0 2.2094903859676593e-113\n",
      "0.8504672897196262 1.0 1.6057173658817666e-113\n",
      "0.8648454349388929 1.0 3.674996258679481e-124\n",
      "0.8662832494608196 1.0 1.0466397527077193e-124\n",
      "0.8813803019410497 1.0 1.9385499843889247e-134\n",
      "0.8828181164629763 1.0 1.473624798869101e-134\n",
      "0.8864126527677929 1.0 1.6843304044141876e-136\n",
      "0.8892882818116463 1.0 1.980981669724212e-137\n",
      "0.895039539899353 1.0 2.8367075810078595e-143\n",
      "0.8964773544212796 1.0 1.09178846905675e-143\n",
      "0.9122933141624731 1.0 1.88116472140745e-164\n",
      "0.9137311286843998 1.0 4.65857177933499e-166\n",
      "0.918763479511143 1.0 5.684468914917191e-178\n",
      "0.9202012940330697 1.0 9.063069349626894e-179\n",
      "0.97411933860532 1.0 2.77e-321\n",
      "1.0 1.0 0.0\n"
     ]
    }
   ],
   "source": [
    "for i,j,k in zip(fpr,tpr,threshold):\n",
    "    print(i,j,k)"
   ]
  },
  {
   "cell_type": "code",
   "execution_count": 113,
   "metadata": {},
   "outputs": [
    {
     "data": {
      "image/png": "[encoded data removed]",
      "text/plain": [
       "<Figure size 640x480 with 1 Axes>"
      ]
     },
     "metadata": {},
     "output_type": "display_data"
    }
   ],
   "source": [
    "plt.title('Receiver Operating Characteristic')\n",
    "plt.plot(fpr, tpr, 'b', label = 'AUC = %0.2f' % roc_auc)\n",
    "plt.legend(loc = 'lower right')\n",
    "plt.plot([0, 1], [0, 1],'r--')\n",
    "plt.xlim([0, 1])\n",
    "plt.ylim([0, 1])\n",
    "plt.ylabel('True Positive Rate')\n",
    "plt.xlabel('False Positive Rate')\n",
    "plt.show()"
   ]
  },
  {
   "cell_type": "code",
   "execution_count": 122,
   "metadata": {},
   "outputs": [
    {
     "data": {
      "image/png": "[encoded data removed]",
      "text/plain": [
       "<Figure size 800x600 with 1 Axes>"
      ]
     },
     "metadata": {},
     "output_type": "display_data"
    }
   ],
   "source": [
    "confusion = confusion_matrix(y_test,yClass)\n",
    "\n",
    "plt.figure(figsize=(8, 6))\n",
    "sns.heatmap(confusion, annot=True, fmt='d', cmap='Blues', cbar=False)\n",
    "plt.xlabel('Predicted')\n",
    "plt.ylabel('Actual')\n",
    "plt.title('Confusion Matrix Heatmap')\n",
    "plt.show()"
   ]
  }
 ],
 "metadata": {
  "kernelspec": {
   "display_name": "Python 3 (ipykernel)",
   "language": "python",
   "name": "python3"
  },
  "language_info": {
   "codemirror_mode": {
    "name": "ipython",
    "version": 3
   },
   "file_extension": ".py",
   "mimetype": "text/x-python",
   "name": "python",
   "nbconvert_exporter": "python",
   "pygments_lexer": "ipython3",
   "version": "3.9.17"
  }
 },
 "nbformat": 4,
 "nbformat_minor": 2
}
