{
 "cells": [
  {
   "cell_type": "code",
   "execution_count": 47,
   "metadata": {},
   "outputs": [],
   "source": [
    "import numpy as np\n",
    "import pandas as pd\n",
    "from sklearn.preprocessing import MinMaxScaler\n",
    "import tensorflow as tf\n",
    "from tensorflow.keras import layers\n",
    "from sklearn.model_selection import train_test_split\n",
    "import matplotlib.pyplot as plt\n",
    "from sklearn.metrics import roc_auc_score, roc_curve"
   ]
  },
  {
   "cell_type": "code",
   "execution_count": 3,
   "metadata": {},
   "outputs": [],
   "source": [
    "df = pd.read_csv('/Users/taddbackus/School/fall23/qtw/cs6/all_train.csv')"
   ]
  },
  {
   "cell_type": "code",
   "execution_count": 4,
   "metadata": {},
   "outputs": [
    {
     "name": "stdout",
     "output_type": "stream",
     "text": [
      "         # label        f0        f1        f2        f3        f4        f5  \\\n",
      "0            1.0 -0.346368  0.416306  0.999236  0.475342  0.427493 -0.005984   \n",
      "1            1.0  1.708236 -0.319394 -1.241873 -0.887231 -0.871906 -0.005984   \n",
      "2            0.0 -0.360693  1.794174  0.264738 -0.472273 -0.292344 -1.054221   \n",
      "3            1.0 -0.377914 -0.103932 -0.649434 -2.125015 -1.643797 -0.005984   \n",
      "4            0.0 -0.067436 -0.636762 -0.620166 -0.062551  1.588715 -0.005984   \n",
      "...          ...       ...       ...       ...       ...       ...       ...   \n",
      "6999995      0.0  1.617264 -0.537084 -1.275867  0.650799 -1.511621  0.850488   \n",
      "6999996      0.0 -0.511357  0.270927  0.085989 -0.243802 -1.035668 -0.005984   \n",
      "6999997      1.0  0.062408 -0.987203  0.570667  1.517195  0.639548 -1.054221   \n",
      "6999998      1.0  1.659131  1.096223  0.562821  1.627193  0.767236 -1.054221   \n",
      "6999999      1.0  0.002034  0.744152 -0.908839 -0.770454  1.008405 -1.054221   \n",
      "\n",
      "               f6        f7        f8  ...       f18       f19       f20  \\\n",
      "0        1.989833  0.344530  1.566297  ...  4.105282  0.267826  0.378718   \n",
      "1       -0.001047 -1.038225  0.655748  ... -1.178141 -0.877361 -1.483769   \n",
      "2       -1.150495  1.423404  1.270098  ... -1.199511  0.539020 -1.590629   \n",
      "3        1.011112 -1.040340 -0.541991  ...  0.463763 -0.006583  1.089122   \n",
      "4       -0.595304 -1.238987  0.336844  ... -0.552837 -1.418494 -0.562982   \n",
      "...           ...       ...       ...  ...       ...       ...       ...   \n",
      "6999995  0.596391 -0.054678  0.728849  ...  0.664328 -0.960709 -0.894011   \n",
      "6999996 -0.127219  0.721426  1.404479  ... -1.015462  1.367217 -1.053815   \n",
      "6999997  1.115239  1.261928 -1.009308  ...  0.790842  0.892545 -0.192816   \n",
      "6999998  1.079999  0.155488 -1.412207  ... -0.671423 -0.308908 -0.568336   \n",
      "6999999 -0.370155  0.296837 -1.492524  ...  0.352893  0.671047  0.176512   \n",
      "\n",
      "              f21       f22       f23       f24       f25       f26  \\\n",
      "0        1.743123  3.406367  4.350537 -0.352571  1.130032  2.227706   \n",
      "1       -0.573682 -1.693781 -0.545062 -0.299118 -0.662942 -0.193019   \n",
      "2       -0.573682 -0.543636 -0.937456 -0.300344 -0.523262 -1.506304   \n",
      "3       -0.573682 -0.276348 -0.409272 -0.349926 -0.307123  0.529698   \n",
      "4        1.743123  0.881802  0.002516  1.560950 -0.150760 -1.023889   \n",
      "...           ...       ...       ...       ...       ...       ...   \n",
      "6999995  1.743123 -0.426198 -0.324286 -0.432739  1.340297  0.267774   \n",
      "6999996 -0.573682 -1.907798  0.194661 -0.190621  0.027776 -0.316018   \n",
      "6999997 -0.573682  0.973622  1.034964 -0.340661 -0.181193  1.877042   \n",
      "6999998 -0.573682  1.043119  1.270350  0.217405  0.120213  1.073020   \n",
      "6999999 -0.573682  0.314739  0.304983  0.425471 -0.612085 -0.925097   \n",
      "\n",
      "                mass  \n",
      "0        1000.000000  \n",
      "1         750.000000  \n",
      "2         750.000000  \n",
      "3        1250.000000  \n",
      "4         750.000000  \n",
      "...              ...  \n",
      "6999995   750.000000  \n",
      "6999996  1250.000000  \n",
      "6999997  1500.000000  \n",
      "6999998  1500.000000  \n",
      "6999999   499.999969  \n",
      "\n",
      "[7000000 rows x 29 columns]\n"
     ]
    }
   ],
   "source": [
    "print(df)"
   ]
  },
  {
   "cell_type": "code",
   "execution_count": 8,
   "metadata": {},
   "outputs": [],
   "source": [
    "del df"
   ]
  },
  {
   "cell_type": "code",
   "execution_count": 5,
   "metadata": {},
   "outputs": [
    {
     "name": "stdout",
     "output_type": "stream",
     "text": [
      "(7000000, 29)\n",
      "(7000000, 28)\n",
      "(7000000,)\n"
     ]
    }
   ],
   "source": [
    "X = df.drop(columns=['# label'])\n",
    "y = df['# label']\n",
    "print(df.shape)\n",
    "print(X.shape)\n",
    "print(y.shape)"
   ]
  },
  {
   "cell_type": "code",
   "execution_count": 7,
   "metadata": {},
   "outputs": [],
   "source": [
    "scaler = MinMaxScaler(feature_range=(0,1))\n",
    "scaledTrain = scaler.fit_transform(X)"
   ]
  },
  {
   "cell_type": "code",
   "execution_count": 11,
   "metadata": {},
   "outputs": [
    {
     "name": "stdout",
     "output_type": "stream",
     "text": [
      "(7000000, 28)\n"
     ]
    }
   ],
   "source": [
    "print(scaledTrain.shape)"
   ]
  },
  {
   "cell_type": "code",
   "execution_count": 30,
   "metadata": {},
   "outputs": [],
   "source": [
    "X_train, X_test, y_train, y_test = train_test_split(scaledTrain, y, test_size = 0.2)\n",
    "X_predict, X_val, y_predict, y_val = train_test_split(X_test, y_test, test_size=0.5)"
   ]
  },
  {
   "cell_type": "code",
   "execution_count": 39,
   "metadata": {},
   "outputs": [],
   "source": [
    "callback = tf.keras.callbacks.EarlyStopping(monitor='val_loss', patience=5)\n",
    "\n",
    "model = tf.keras.Sequential()\n",
    "model.add(tf.keras.Input(shape=(28,)))\n",
    "model.add(layers.Dense(128,activation='relu'))\n",
    "model.add(layers.Dense(128,activation='relu'))\n",
    "model.add(layers.Dropout(0.3))\n",
    "model.add(layers.Dense(64,activation='relu'))\n",
    "model.add(layers.Dense(64,activation='relu'))\n",
    "model.add(layers.Dropout(0.3))\n",
    "model.add(layers.Dense(1,activation='sigmoid'))\n",
    "\n"
   ]
  },
  {
   "cell_type": "code",
   "execution_count": 40,
   "metadata": {},
   "outputs": [
    {
     "name": "stdout",
     "output_type": "stream",
     "text": [
      "Epoch 1/100\n",
      "87500/87500 [==============================] - 102s 1ms/step - loss: 0.2986 - accuracy: 0.8621 - val_loss: 0.2825 - val_accuracy: 0.8710\n",
      "Epoch 2/100\n",
      "87500/87500 [==============================] - 101s 1ms/step - loss: 0.2840 - accuracy: 0.8710 - val_loss: 0.2867 - val_accuracy: 0.8694\n",
      "Epoch 3/100\n",
      "87500/87500 [==============================] - 101s 1ms/step - loss: 0.2799 - accuracy: 0.8736 - val_loss: 0.2833 - val_accuracy: 0.8753\n",
      "Epoch 4/100\n",
      "87500/87500 [==============================] - 101s 1ms/step - loss: 0.2779 - accuracy: 0.8746 - val_loss: 0.2748 - val_accuracy: 0.8773\n",
      "Epoch 5/100\n",
      "87500/87500 [==============================] - 102s 1ms/step - loss: 0.2764 - accuracy: 0.8755 - val_loss: 0.2751 - val_accuracy: 0.8770\n",
      "Epoch 6/100\n",
      "87500/87500 [==============================] - 101s 1ms/step - loss: 0.2755 - accuracy: 0.8761 - val_loss: 0.2740 - val_accuracy: 0.8778\n",
      "Epoch 7/100\n",
      "87500/87500 [==============================] - 101s 1ms/step - loss: 0.2749 - accuracy: 0.8764 - val_loss: 0.2794 - val_accuracy: 0.8770\n",
      "Epoch 8/100\n",
      "87500/87500 [==============================] - 102s 1ms/step - loss: 0.2743 - accuracy: 0.8768 - val_loss: 0.2783 - val_accuracy: 0.8791\n",
      "Epoch 9/100\n",
      "87500/87500 [==============================] - 102s 1ms/step - loss: 0.2739 - accuracy: 0.8771 - val_loss: 0.2721 - val_accuracy: 0.8786\n",
      "Epoch 10/100\n",
      "87500/87500 [==============================] - 102s 1ms/step - loss: 0.2737 - accuracy: 0.8772 - val_loss: 0.2747 - val_accuracy: 0.8780\n",
      "Epoch 11/100\n",
      "87500/87500 [==============================] - 103s 1ms/step - loss: 0.2734 - accuracy: 0.8774 - val_loss: 0.2735 - val_accuracy: 0.8778\n",
      "Epoch 12/100\n",
      "87500/87500 [==============================] - 102s 1ms/step - loss: 0.2733 - accuracy: 0.8775 - val_loss: 0.2725 - val_accuracy: 0.8758\n",
      "Epoch 13/100\n",
      "87500/87500 [==============================] - 102s 1ms/step - loss: 0.2732 - accuracy: 0.8776 - val_loss: 0.2744 - val_accuracy: 0.8773\n",
      "Epoch 14/100\n",
      "87500/87500 [==============================] - 101s 1ms/step - loss: 0.2731 - accuracy: 0.8777 - val_loss: 0.2726 - val_accuracy: 0.8784\n"
     ]
    }
   ],
   "source": [
    "model.compile(optimizer=tf.keras.optimizers.Adam(),\n",
    "              loss='binary_crossentropy',\n",
    "              metrics=['accuracy'])\n",
    "history = model.fit(X_train,\n",
    "          y_train,\n",
    "          epochs=100,\n",
    "          batch_size=64,\n",
    "          callbacks=[callback],\n",
    "          validation_data=[X_val,y_val])"
   ]
  },
  {
   "cell_type": "code",
   "execution_count": 41,
   "metadata": {},
   "outputs": [
    {
     "name": "stdout",
     "output_type": "stream",
     "text": [
      "43750/43750 [==============================] - 27s 607us/step - loss: 0.2720 - accuracy: 0.8789\n",
      "0.8789049983024597\n"
     ]
    }
   ],
   "source": [
    "loss, acc = model.evaluate(X_test,y_test)\n",
    "print(acc)"
   ]
  },
  {
   "cell_type": "code",
   "execution_count": 26,
   "metadata": {},
   "outputs": [
    {
     "name": "stdout",
     "output_type": "stream",
     "text": [
      "{'loss': [0.2991272509098053, 0.2830711901187897, 0.2776387333869934, 0.27468058466911316, 0.27264603972435, 0.2712540924549103, 0.2701995074748993, 0.2693994343280792, 0.2687590718269348, 0.26825079321861267, 0.2677081823348999, 0.2673660218715668, 0.2669734060764313, 0.2666451036930084, 0.2663871943950653, 0.26616278290748596, 0.26583483815193176, 0.2656494677066803], 'accuracy': [0.859774649143219, 0.8697656989097595, 0.8732699751853943, 0.874929666519165, 0.8762496709823608, 0.8768731951713562, 0.8775885701179504, 0.8781303763389587, 0.8784443140029907, 0.8786507248878479, 0.879001796245575, 0.8791139125823975, 0.8795614242553711, 0.879532516002655, 0.8798078298568726, 0.8798821568489075, 0.8800035715103149, 0.8802242875099182], 'val_loss': [0.2839556336402893, 0.277997761964798, 0.27882710099220276, 0.27469033002853394, 0.27146491408348083, 0.2720358073711395, 0.2686973214149475, 0.26885712146759033, 0.26736775040626526, 0.2699614465236664, 0.2675265669822693, 0.26862460374832153, 0.26627737283706665, 0.2682907283306122, 0.2668006122112274, 0.2672595679759979, 0.2693861722946167, 0.2668053209781647], 'val_accuracy': [0.8688300251960754, 0.8728299736976624, 0.8730160593986511, 0.8745989203453064, 0.8766414523124695, 0.8761789202690125, 0.8785471320152283, 0.8782207369804382, 0.8791053295135498, 0.8781242966651917, 0.8791810870170593, 0.8788542747497559, 0.8795850276947021, 0.8788049817085266, 0.8797125220298767, 0.8794653415679932, 0.8782278299331665, 0.8793396353721619]}\n"
     ]
    }
   ],
   "source": [
    "print(history.history)"
   ]
  },
  {
   "cell_type": "code",
   "execution_count": 43,
   "metadata": {},
   "outputs": [
    {
     "data": {
      "image/png": "[encoded data removed]",
      "text/plain": [
       "<Figure size 640x480 with 1 Axes>"
      ]
     },
     "metadata": {},
     "output_type": "display_data"
    }
   ],
   "source": [
    "plt.plot(np.linspace(1,14,14),history.history['accuracy'],label='test')\n",
    "plt.plot(np.linspace(1,14,14),history.history['loss'],label='train')\n",
    "plt.xlabel('epoch')\n",
    "plt.ylabel('loss')\n",
    "plt.legend()\n",
    "plt.show()"
   ]
  },
  {
   "cell_type": "code",
   "execution_count": 48,
   "metadata": {},
   "outputs": [
    {
     "name": "stdout",
     "output_type": "stream",
     "text": [
      "21875/21875 [==============================] - 11s 482us/step\n"
     ]
    }
   ],
   "source": [
    "yPred = model.predict(X_predict)"
   ]
  },
  {
   "cell_type": "code",
   "execution_count": 49,
   "metadata": {},
   "outputs": [
    {
     "name": "stdout",
     "output_type": "stream",
     "text": [
      "[[0.01899077]\n",
      " [0.9901528 ]\n",
      " [0.45939174]\n",
      " ...\n",
      " [0.1020401 ]\n",
      " [0.4777824 ]\n",
      " [0.9504551 ]]\n"
     ]
    }
   ],
   "source": [
    "print(yPred)"
   ]
  },
  {
   "cell_type": "code",
   "execution_count": 50,
   "metadata": {},
   "outputs": [
    {
     "data": {
      "image/png": "[encoded data removed]",
      "text/plain": [
       "<Figure size 640x480 with 1 Axes>"
      ]
     },
     "metadata": {},
     "output_type": "display_data"
    }
   ],
   "source": [
    "fpr, tpr, thresholds = roc_curve(y_predict,yPred)\n",
    "roc_auc = roc_auc_score(y_predict,yPred)\n",
    "plt.plot(fpr, tpr, 'b', label = 'AUC = %0.2f' % roc_auc)\n",
    "plt.legend(loc = 'lower right')\n",
    "plt.show()"
   ]
  }
 ],
 "metadata": {
  "kernelspec": {
   "display_name": "base",
   "language": "python",
   "name": "python3"
  },
  "language_info": {
   "codemirror_mode": {
    "name": "ipython",
    "version": 3
   },
   "file_extension": ".py",
   "mimetype": "text/x-python",
   "name": "python",
   "nbconvert_exporter": "python",
   "pygments_lexer": "ipython3",
   "version": "3.9.7"
  }
 },
 "nbformat": 4,
 "nbformat_minor": 2
}
